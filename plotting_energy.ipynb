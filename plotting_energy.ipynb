{
 "cells": [
  {
   "cell_type": "code",
   "execution_count": 1,
   "metadata": {},
   "outputs": [],
   "source": [
    "#%matplotlib notebook"
   ]
  },
  {
   "cell_type": "code",
   "execution_count": 2,
   "metadata": {},
   "outputs": [],
   "source": [
    "from ipywidgets import interact, interactive, fixed, interact_manual\n",
    "import ipywidgets as widgets\n",
    "import matplotlib.pyplot as plt\n",
    "import random\n",
    "from mpl_toolkits.mplot3d import Axes3D\n",
    "import numpy as np"
   ]
  },
  {
   "cell_type": "code",
   "execution_count": 3,
   "metadata": {},
   "outputs": [],
   "source": [
    "def create_plot(alpha=0.15, d_target=0.65):\n",
    "    \n",
    "    #alpha = 0.15\n",
    "    #d_target = 0.5\n",
    "    L = 4\n",
    "\n",
    "    theta = np.linspace(0, 2*np.pi, 1000)\n",
    "    beta = np.linspace(0, 2*np.pi, 1000)\n",
    "\n",
    "    THETA, BETA = np.meshgrid(theta, beta)\n",
    "\n",
    "    d2 = (L**2/16)*((2-4*alpha+np.cos(THETA)+np.cos(BETA))**2 + (np.sin(THETA)+np.sin(BETA))**2)\n",
    "    E = ((d2 - d_target**2)**2)**0.5\n",
    "    E = E**0.5\n",
    "\n",
    "    fig = plt.figure(figsize=(15,10))\n",
    "\n",
    "    if False:\n",
    "        ax = Axes3D(fig)\n",
    "        ax.plot_surface(THETA, BETA, E)\n",
    "        ax.set_xlim([-2,2])\n",
    "        ax.set_ylim([-2,2])\n",
    "    else:\n",
    "        ax = plt.contourf(THETA, BETA, E, levels=50)\n",
    "        plt.colorbar()\n",
    "\n",
    "    plt.xlabel('theta (rad)')\n",
    "    plt.ylabel('beta (rad)')\n",
    "    plt.show()"
   ]
  },
  {
   "cell_type": "code",
   "execution_count": 4,
   "metadata": {
    "scrolled": false
   },
   "outputs": [
    {
     "data": {
      "application/vnd.jupyter.widget-view+json": {
       "model_id": "d9bdc7848e4049e681f3e411e6b9f2a3",
       "version_major": 2,
       "version_minor": 0
      },
      "text/plain": [
       "interactive(children=(FloatSlider(value=0.15, description='alpha', max=1.0, step=0.05), FloatSlider(value=0.65…"
      ]
     },
     "metadata": {},
     "output_type": "display_data"
    }
   ],
   "source": [
    "interact(\n",
    "    create_plot,\n",
    "    alpha=widgets.FloatSlider(\n",
    "        min=0, max=1, step=0.05, value=0.15),\n",
    "    d_target=widgets.FloatSlider(\n",
    "        min=0, max=2, step=0.05, value=0.65)\n",
    ");"
   ]
  },
  {
   "cell_type": "code",
   "execution_count": null,
   "metadata": {},
   "outputs": [],
   "source": []
  }
 ],
 "metadata": {
  "kernelspec": {
   "display_name": "Python 3",
   "language": "python",
   "name": "python3"
  },
  "language_info": {
   "codemirror_mode": {
    "name": "ipython",
    "version": 3
   },
   "file_extension": ".py",
   "mimetype": "text/x-python",
   "name": "python",
   "nbconvert_exporter": "python",
   "pygments_lexer": "ipython3",
   "version": "3.7.8"
  }
 },
 "nbformat": 4,
 "nbformat_minor": 4
}
