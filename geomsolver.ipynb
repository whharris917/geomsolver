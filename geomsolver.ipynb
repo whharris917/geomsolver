{
 "cells": [
  {
   "cell_type": "code",
   "execution_count": 1,
   "metadata": {},
   "outputs": [],
   "source": [
    "%matplotlib notebook"
   ]
  },
  {
   "cell_type": "code",
   "execution_count": 2,
   "metadata": {},
   "outputs": [],
   "source": [
    "import numpy as np\n",
    "import pandas as pd\n",
    "import torch, IPython, itertools, string\n",
    "import random, time, warnings\n",
    "import matplotlib.pyplot as plt\n",
    "from matplotlib import animation\n",
    "from munch import Munch"
   ]
  },
  {
   "cell_type": "code",
   "execution_count": 3,
   "metadata": {},
   "outputs": [],
   "source": [
    "warnings.simplefilter('ignore')"
   ]
  },
  {
   "cell_type": "code",
   "execution_count": 4,
   "metadata": {},
   "outputs": [],
   "source": [
    "class Point(torch.nn.Module):\n",
    "    def __init__(self, linkage, name):\n",
    "        super(Point, self).__init__()\n",
    "        self.linkage = linkage\n",
    "        self.name = name\n",
    "        self.parent = None\n",
    "        self._r = None\n",
    "        \n",
    "    def __repr__(self):\n",
    "        raise Exception('Override this method.')\n",
    "    \n",
    "    @property\n",
    "    def r(self):\n",
    "        raise Exception('Override this property.')\n",
    "\n",
    "    def root(self):\n",
    "        raise Exception('Override this method.')\n",
    "    \n",
    "    def E(self):\n",
    "        raise Exception('Override this method.')"
   ]
  },
  {
   "cell_type": "code",
   "execution_count": 5,
   "metadata": {},
   "outputs": [],
   "source": [
    "class AtPoint(Point):\n",
    "    def __init__(self, linkage, name, at):\n",
    "        super(AtPoint, self).__init__(linkage, name)\n",
    "        self._r = torch.nn.Parameter(torch.tensor(at).to(torch.float))\n",
    "    \n",
    "    def __repr__(self):\n",
    "        label = self.__class__.__name__[:-5]\n",
    "        return('[{}]Point_{}(at={})'.format(label, self.name, str(self.r.tolist())))\n",
    "    \n",
    "    @property\n",
    "    def r(self):\n",
    "        return(self._r)\n",
    "\n",
    "    def root(self):\n",
    "        return(self)\n",
    "    \n",
    "    def E(self):\n",
    "        return(0)"
   ]
  },
  {
   "cell_type": "code",
   "execution_count": 6,
   "metadata": {},
   "outputs": [],
   "source": [
    "class AnchorPoint(Point):\n",
    "    def __init__(self, linkage, name, at):\n",
    "        super(AnchorPoint, self).__init__(linkage, name)\n",
    "        self._r = torch.tensor(at, requires_grad=False)\n",
    "        \n",
    "    def __repr__(self):\n",
    "        label = self.__class__.__name__[:-5]\n",
    "        return('[{}]Point_{}(at={})'.format(label, self.name, str(self.r.tolist())))\n",
    "        \n",
    "    @property\n",
    "    def r(self):\n",
    "        return(self._r)\n",
    "        \n",
    "    def root(self):\n",
    "        return(self)\n",
    "    \n",
    "    def E(self):\n",
    "        return(0)"
   ]
  },
  {
   "cell_type": "code",
   "execution_count": 7,
   "metadata": {},
   "outputs": [],
   "source": [
    "class OnPointPoint(Point):\n",
    "    def __init__(self, linkage, name, parent):\n",
    "        super(OnPointPoint, self).__init__(linkage, name)\n",
    "        self.parent = parent\n",
    "        \n",
    "    def __repr__(self):\n",
    "        label = self.__class__.__name__[:-5]\n",
    "        return('[{}]Point_{}(on={})'.format(label, self.name, str(self.parent)))\n",
    "        \n",
    "    @property\n",
    "    def r(self):\n",
    "        return(self.parent.r)\n",
    "    \n",
    "    def root(self):\n",
    "        return(self.parent.root())\n",
    "    \n",
    "    def E(self):\n",
    "        return(0)"
   ]
  },
  {
   "cell_type": "code",
   "execution_count": 8,
   "metadata": {},
   "outputs": [],
   "source": [
    "class ToPointPoint(Point):\n",
    "    def __init__(self, linkage, name, at, parent):\n",
    "        super(ToPointPoint, self).__init__(linkage, name)\n",
    "        self._r = torch.nn.Parameter(torch.tensor(at).to(torch.float))\n",
    "        self.parent = parent\n",
    "        \n",
    "    def __repr__(self):\n",
    "        label = self.__class__.__name__[:-5]\n",
    "        return('[{}]Point_{}(to={})'.format(label, self.name, str(self.parent)))\n",
    "        \n",
    "    @property\n",
    "    def r(self):\n",
    "        return(self._r)\n",
    "    \n",
    "    def root(self):\n",
    "        return(self)\n",
    "    \n",
    "    def E(self):\n",
    "        return((self.r-self.parent.r).pow(2).sum())"
   ]
  },
  {
   "cell_type": "code",
   "execution_count": 9,
   "metadata": {},
   "outputs": [],
   "source": [
    "class CalculatedPoint(Point):\n",
    "    def __init__(self, linkage, name, parent):\n",
    "        super(CalculatedPoint, self).__init__(linkage, name)\n",
    "        self.parent = parent\n",
    "        \n",
    "    def __repr__(self):\n",
    "        label = self.__class__.__name__[:-5]\n",
    "        return('[{}]Point_{}(from={})'.format(label, self.name, str(self.parent.p1)))\n",
    "        \n",
    "    @property\n",
    "    def r(self):\n",
    "        if self.parent.ux is None:\n",
    "            ax = torch.tensor([1,0,0], requires_grad=False).to(torch.float)\n",
    "        elif type(self.parent.ux) is list:\n",
    "            ax = torch.tensor(ux, requires_grad=False).to(torch.float)\n",
    "        elif type(self.parent.ux).__bases__[0].__name__ is 'Line':\n",
    "            ax = self.parent.ux.u\n",
    "        else:\n",
    "            raise Exception('ux must be None, a list, or a Line.')\n",
    "        if self.parent.uz is None:\n",
    "            az = torch.tensor([0,0,1], requires_grad=False).to(torch.float)\n",
    "        elif type(self.parent.uz) is list:\n",
    "            az = torch.tensor(uz, requires_grad=False).to(torch.float)\n",
    "        elif type(self.parent.uz).__bases__[0].__name__ is 'Line':\n",
    "            az = self.parent.uz.u\n",
    "        else:\n",
    "            raise Exception('uz must be None, a list, or a Line.')\n",
    "        ay = torch.cross(az, ax)\n",
    "        theta = self.parent.theta * np.pi/180\n",
    "        phi = self.parent.phi * np.pi/180\n",
    "        ux = torch.sin(phi)*torch.cos(theta)\n",
    "        uy = torch.sin(phi)*torch.sin(theta)\n",
    "        uz = torch.cos(phi)\n",
    "        dr = self.parent.L * torch.cat([ux, uy, uz])\n",
    "        R = torch.stack([ax, ay, az], dim=1)\n",
    "        r = self.parent.p1.r + torch.matmul(R,dr)\n",
    "        return(r)\n",
    "\n",
    "    def root(self):\n",
    "        return(self)\n",
    "    \n",
    "    def E(self):\n",
    "        return(0)"
   ]
  },
  {
   "cell_type": "code",
   "execution_count": 10,
   "metadata": {},
   "outputs": [],
   "source": [
    "class Line(torch.nn.Module):\n",
    "    def __init__(self, linkage, name):\n",
    "        super(Line, self).__init__()\n",
    "        self.linkage = linkage\n",
    "        self.name = name\n",
    "        self.parent = None\n",
    "        self.p1 = None\n",
    "        self.p2 = None\n",
    "        \n",
    "    def __repr__(self):\n",
    "        raise Exception('Override this method.')\n",
    "        \n",
    "    @property\n",
    "    def r(self):\n",
    "        return(self.p2.r-self.p1.r)"
   ]
  },
  {
   "cell_type": "code",
   "execution_count": 11,
   "metadata": {},
   "outputs": [],
   "source": [
    "class FromPointLine(Line):\n",
    "    def __init__(self, linkage, name, p, L, theta, phi=None, ux=None, uz=None):\n",
    "        super(FromPointLine, self).__init__(linkage, name)\n",
    "        self.L = L\n",
    "        self.theta = torch.nn.Parameter(torch.tensor([theta]).to(torch.float))\n",
    "        phi = 90 if phi is None else phi\n",
    "        self.phi = torch.nn.Parameter(torch.tensor([phi]).to(torch.float))\n",
    "        self.ux = ux\n",
    "        self.uz = uz\n",
    "        self.p1 = OnPointPoint(self.linkage, '{}.{}'.format(self.name, '1'), parent=p)\n",
    "        self.p2 = CalculatedPoint(self.linkage, '{}.{}'.format(self.name, '2'), parent=self)\n",
    "        \n",
    "    def __repr__(self):\n",
    "        label = self.__class__.__name__[:-4]\n",
    "        return('[{}]Line_{}(p1={}, p2={})'.format(label, self.name, self.p1.name, self.p2.name))\n",
    "    \n",
    "    @property\n",
    "    def u(self):\n",
    "        return(self.r/self.L)\n",
    "\n",
    "    def root(self):\n",
    "        return(self)\n",
    "    \n",
    "    def E(self):\n",
    "        return(0)"
   ]
  },
  {
   "cell_type": "code",
   "execution_count": 12,
   "metadata": {},
   "outputs": [],
   "source": [
    "class OnLinePoint(Point):\n",
    "    pass"
   ]
  },
  {
   "cell_type": "code",
   "execution_count": 13,
   "metadata": {},
   "outputs": [],
   "source": [
    "class OnPointLine(Line):\n",
    "    pass"
   ]
  },
  {
   "cell_type": "code",
   "execution_count": 14,
   "metadata": {},
   "outputs": [],
   "source": [
    "class Linkage():\n",
    "    def __init__(self):       \n",
    "        self.points = Munch(torch.nn.ModuleDict({}))\n",
    "        #self.anchors = torch.nn.ModuleDict({})\n",
    "        self.lines = Munch(torch.nn.ModuleDict({}))\n",
    "        #self.angles = torch.nn.ModuleDict({})\n",
    "        self.names = {}\n",
    "        for _type in ['point', 'line']:\n",
    "            self.names[_type] = []\n",
    "            letters = string.ascii_letters[-26:]\n",
    "            if _type is 'line':\n",
    "                letters = letters.lower()\n",
    "            for n in range(3):\n",
    "                for t in itertools.product(letters, repeat=n):\n",
    "                    self.names[_type].append(''.join(t))\n",
    "            self.names[_type] = iter(self.names[_type][1:])\n",
    "        #self.names['anchor'] = self.names['point']\n",
    "        self.plot = LinkagePlot(self)\n",
    "        self.tolerance = 0.00001\n",
    "    \n",
    "    # Points\n",
    "    \n",
    "    def add_atpoint(self, at):\n",
    "        name = next(self.names['point'])\n",
    "        self.points[name] = AtPoint(self, name, at)\n",
    "        self.plot.update()\n",
    "        return(self.points[name])\n",
    "    \n",
    "    def add_anchorpoint(self, at):\n",
    "        name = next(self.names['point'])\n",
    "        self.points[name] = AnchorPoint(self, name, at)\n",
    "        self.plot.update()\n",
    "        return(self.points[name])\n",
    "    \n",
    "    def add_onpointpoint(self, parent):\n",
    "        name = next(self.names['point'])\n",
    "        self.points[name] = OnPointPoint(self, name, parent)\n",
    "        self.plot.update()\n",
    "        return(self.points[name])\n",
    "    \n",
    "    def add_topointpoint(self, at, parent):\n",
    "        name = next(self.names['point'])\n",
    "        self.points[name] = ToPointPoint(self, name, at, parent)\n",
    "        self.plot.update()\n",
    "        return(self.points[name])\n",
    "    \n",
    "    def add_onlinepoint(self):\n",
    "        pass\n",
    "    \n",
    "    # Lines\n",
    "    \n",
    "    def add_frompointline(self, p, L, theta, phi=None, ux=None, uz=None):\n",
    "        name = next(self.names['line'])\n",
    "        self.lines[name] = FromPointLine(self, name, p, L, theta, phi, ux, uz)\n",
    "        self.plot.update()\n",
    "        return(self.lines[name])\n",
    "    \n",
    "    def add_onpointline(self):\n",
    "        pass\n",
    "        \n",
    "    @property\n",
    "    def N(self):\n",
    "        N = 0\n",
    "        N += len(self.points)\n",
    "        #N += len(self.anchors)\n",
    "        N += 2*len(self.lines)\n",
    "        return(N)\n",
    "    \n",
    "    @property\n",
    "    def M(self):\n",
    "        return(len(self.lines))\n",
    "     \n",
    "    def parameters(self):\n",
    "        parameters = []\n",
    "        for point in self.points.values():\n",
    "            for param in point.parameters():\n",
    "                parameters.append(param)\n",
    "        #for anchor in self.anchors.values():\n",
    "        #    for param in anchor.parameters():\n",
    "        #        parameters.append(param)\n",
    "        for line in self.lines.values():\n",
    "            for param in line.parameters():\n",
    "                parameters.append(param)\n",
    "        return(parameters)\n",
    "        \n",
    "    '''\n",
    "    def xyz(self):\n",
    "        xyz = torch.zeros((self.N, 3))\n",
    "        n = 0\n",
    "        for point in self.points.values():\n",
    "            xyz[n] += point.r\n",
    "            n += 1\n",
    "        for anchor in self.anchors.values():\n",
    "            xyz[n] += anchor.r\n",
    "            n += 1\n",
    "        for line in self.lines.values():\n",
    "            xyz[n] += line.p1.r\n",
    "            xyz[n+1] += line.p2.r\n",
    "            n += 2\n",
    "        return(xyz)\n",
    "    '''\n",
    "       \n",
    "    def energy(self):\n",
    "        E = 0.0\n",
    "        for point in self.points.values():\n",
    "            E += line.energy()\n",
    "        for line in self.lines.values():\n",
    "            E += line.energy()\n",
    "        #for angle in self.angles.values():\n",
    "        #    E += angle.energy()\n",
    "        return(E)\n",
    "            \n",
    "    def update(self, max_num_epochs=10000):\n",
    "        optimizer = torch.optim.Adam(self.parameters(), lr=0.001) #SGD\n",
    "        for epoch in range(max_num_epochs):\n",
    "            optimizer.zero_grad()\n",
    "            E = self.energy()\n",
    "            E.backward()\n",
    "            optimizer.step()\n",
    "            self.plot.E_list.append(E.item())\n",
    "            if E <= self.tolerance:\n",
    "                break\n",
    "        if (E > self.tolerance or E.isnan()):\n",
    "            raise Exception('Could not solve all constraints.')\n",
    "        self.plot.update()\n",
    "        time.sleep(0.01)"
   ]
  },
  {
   "cell_type": "code",
   "execution_count": 15,
   "metadata": {},
   "outputs": [],
   "source": [
    "class LinkagePlot():\n",
    "    def __init__(self, linkage):\n",
    "        self.linkage = linkage\n",
    "        self.origin = torch.tensor([0,0,0])\n",
    "        self.E_list = [1.0]\n",
    "        \n",
    "        # Set up figure and axis\n",
    "        self.size = 5\n",
    "        self.lim = 5\n",
    "        self.fig = plt.figure(figsize=(2*self.size,self.size))\n",
    "        self.ax1 = self.fig.add_subplot(121, autoscale_on=False,\n",
    "            xlim=(-self.lim,self.lim),\n",
    "            ylim=(-self.lim,self.lim))\n",
    "        self.ax2 = self.fig.add_subplot(122, autoscale_on=False,\n",
    "            xlim=(0,1),\n",
    "            ylim=(0,1))\n",
    "        self.ax1.set_title('Configuration')\n",
    "        self.ax2.set_title('log10(E)')\n",
    "        \n",
    "        self.ax1.scatter(\n",
    "            [self.origin[0]], [self.origin[1]],\n",
    "            marker='o', s=20, c='red', alpha=1, label='origin')\n",
    "        \n",
    "        self.points, self.anchors, self.lines = {}, {}, {}\n",
    "            \n",
    "        self.lnE_line, = self.ax2.plot([], [], 'b-', markersize=3, lw=0.5, label='log10(E)')\n",
    "        time_template = ' t={:.0f}\\n E={:.2f}\\n T={:.5f}\\n theta={:.0f}\\n'\n",
    "        self.time_text = self.ax1.text(0.05, 0.7, '', transform=self.ax1.transAxes)\n",
    "        \n",
    "    def update(self):\n",
    "        \n",
    "        for point_name in self.linkage.points.keys():\n",
    "            print('point', point_name)\n",
    "            if self.linkage.points[point_name].__class__.__name__ is 'AnchorPoint':\n",
    "                color = 'orange'\n",
    "            else:\n",
    "                color = 'limegreen'\n",
    "            if point_name not in self.points.keys():\n",
    "                point = self.ax1.scatter([], [], s=20, c=color,\n",
    "                    zorder=2, label=point_name)\n",
    "                self.points[point_name] = point\n",
    "            point = self.linkage.points[point_name]\n",
    "            self.points[point_name].set_offsets(\n",
    "                [[point.r[0],point.r[1]]])\n",
    "                \n",
    "        for line_name in self.linkage.lines.keys():\n",
    "            print('line', line_name)\n",
    "            ls, lw = ':', 1\n",
    "            #if self.linkage.lines[line_name].is_constrained():\n",
    "            #    ls, lw = '-', 1\n",
    "            if line_name not in self.lines.keys():\n",
    "                line, = self.ax1.plot([], [], linestyle=ls, markersize=3, lw=lw, c='black',\n",
    "                    zorder=0, label=line_name)\n",
    "                self.lines[line_name] = line\n",
    "            line = self.linkage.lines[line_name]\n",
    "            self.lines[line_name].set_data(\n",
    "                [line.p1.r[0],line.p2.r[0]],\n",
    "                [line.p1.r[1],line.p2.r[1]])\n",
    "            self.lines[line_name].set_linestyle(ls)\n",
    "            self.lines[line_name].set_linewidth(lw)\n",
    "            \n",
    "        self.lnE_line.set_xdata(torch.arange(0,len(self.E_list)))\n",
    "        self.lnE_line.set_ydata(torch.log10(torch.tensor(self.E_list)))\n",
    "        self.ax2.set_xlabel('Epoch')\n",
    "        self.ax2.set_xlim(0,len(self.E_list))\n",
    "        self.ax2.set_ylim(-10,10)\n",
    "        self.time_text.set_text('')\n",
    "        self.fig.canvas.draw()"
   ]
  },
  {
   "cell_type": "code",
   "execution_count": 16,
   "metadata": {},
   "outputs": [
    {
     "data": {
      "application/javascript": [
       "/* Put everything inside the global mpl namespace */\n",
       "/* global mpl */\n",
       "window.mpl = {};\n",
       "\n",
       "mpl.get_websocket_type = function () {\n",
       "    if (typeof WebSocket !== 'undefined') {\n",
       "        return WebSocket;\n",
       "    } else if (typeof MozWebSocket !== 'undefined') {\n",
       "        return MozWebSocket;\n",
       "    } else {\n",
       "        alert(\n",
       "            'Your browser does not have WebSocket support. ' +\n",
       "                'Please try Chrome, Safari or Firefox ≥ 6. ' +\n",
       "                'Firefox 4 and 5 are also supported but you ' +\n",
       "                'have to enable WebSockets in about:config.'\n",
       "        );\n",
       "    }\n",
       "};\n",
       "\n",
       "mpl.figure = function (figure_id, websocket, ondownload, parent_element) {\n",
       "    this.id = figure_id;\n",
       "\n",
       "    this.ws = websocket;\n",
       "\n",
       "    this.supports_binary = this.ws.binaryType !== undefined;\n",
       "\n",
       "    if (!this.supports_binary) {\n",
       "        var warnings = document.getElementById('mpl-warnings');\n",
       "        if (warnings) {\n",
       "            warnings.style.display = 'block';\n",
       "            warnings.textContent =\n",
       "                'This browser does not support binary websocket messages. ' +\n",
       "                'Performance may be slow.';\n",
       "        }\n",
       "    }\n",
       "\n",
       "    this.imageObj = new Image();\n",
       "\n",
       "    this.context = undefined;\n",
       "    this.message = undefined;\n",
       "    this.canvas = undefined;\n",
       "    this.rubberband_canvas = undefined;\n",
       "    this.rubberband_context = undefined;\n",
       "    this.format_dropdown = undefined;\n",
       "\n",
       "    this.image_mode = 'full';\n",
       "\n",
       "    this.root = document.createElement('div');\n",
       "    this.root.setAttribute('style', 'display: inline-block');\n",
       "    this._root_extra_style(this.root);\n",
       "\n",
       "    parent_element.appendChild(this.root);\n",
       "\n",
       "    this._init_header(this);\n",
       "    this._init_canvas(this);\n",
       "    this._init_toolbar(this);\n",
       "\n",
       "    var fig = this;\n",
       "\n",
       "    this.waiting = false;\n",
       "\n",
       "    this.ws.onopen = function () {\n",
       "        fig.send_message('supports_binary', { value: fig.supports_binary });\n",
       "        fig.send_message('send_image_mode', {});\n",
       "        if (fig.ratio !== 1) {\n",
       "            fig.send_message('set_dpi_ratio', { dpi_ratio: fig.ratio });\n",
       "        }\n",
       "        fig.send_message('refresh', {});\n",
       "    };\n",
       "\n",
       "    this.imageObj.onload = function () {\n",
       "        if (fig.image_mode === 'full') {\n",
       "            // Full images could contain transparency (where diff images\n",
       "            // almost always do), so we need to clear the canvas so that\n",
       "            // there is no ghosting.\n",
       "            fig.context.clearRect(0, 0, fig.canvas.width, fig.canvas.height);\n",
       "        }\n",
       "        fig.context.drawImage(fig.imageObj, 0, 0);\n",
       "    };\n",
       "\n",
       "    this.imageObj.onunload = function () {\n",
       "        fig.ws.close();\n",
       "    };\n",
       "\n",
       "    this.ws.onmessage = this._make_on_message_function(this);\n",
       "\n",
       "    this.ondownload = ondownload;\n",
       "};\n",
       "\n",
       "mpl.figure.prototype._init_header = function () {\n",
       "    var titlebar = document.createElement('div');\n",
       "    titlebar.classList =\n",
       "        'ui-dialog-titlebar ui-widget-header ui-corner-all ui-helper-clearfix';\n",
       "    var titletext = document.createElement('div');\n",
       "    titletext.classList = 'ui-dialog-title';\n",
       "    titletext.setAttribute(\n",
       "        'style',\n",
       "        'width: 100%; text-align: center; padding: 3px;'\n",
       "    );\n",
       "    titlebar.appendChild(titletext);\n",
       "    this.root.appendChild(titlebar);\n",
       "    this.header = titletext;\n",
       "};\n",
       "\n",
       "mpl.figure.prototype._canvas_extra_style = function (_canvas_div) {};\n",
       "\n",
       "mpl.figure.prototype._root_extra_style = function (_canvas_div) {};\n",
       "\n",
       "mpl.figure.prototype._init_canvas = function () {\n",
       "    var fig = this;\n",
       "\n",
       "    var canvas_div = (this.canvas_div = document.createElement('div'));\n",
       "    canvas_div.setAttribute(\n",
       "        'style',\n",
       "        'border: 1px solid #ddd;' +\n",
       "            'box-sizing: content-box;' +\n",
       "            'clear: both;' +\n",
       "            'min-height: 1px;' +\n",
       "            'min-width: 1px;' +\n",
       "            'outline: 0;' +\n",
       "            'overflow: hidden;' +\n",
       "            'position: relative;' +\n",
       "            'resize: both;'\n",
       "    );\n",
       "\n",
       "    function on_keyboard_event_closure(name) {\n",
       "        return function (event) {\n",
       "            return fig.key_event(event, name);\n",
       "        };\n",
       "    }\n",
       "\n",
       "    canvas_div.addEventListener(\n",
       "        'keydown',\n",
       "        on_keyboard_event_closure('key_press')\n",
       "    );\n",
       "    canvas_div.addEventListener(\n",
       "        'keyup',\n",
       "        on_keyboard_event_closure('key_release')\n",
       "    );\n",
       "\n",
       "    this._canvas_extra_style(canvas_div);\n",
       "    this.root.appendChild(canvas_div);\n",
       "\n",
       "    var canvas = (this.canvas = document.createElement('canvas'));\n",
       "    canvas.classList.add('mpl-canvas');\n",
       "    canvas.setAttribute('style', 'box-sizing: content-box;');\n",
       "\n",
       "    this.context = canvas.getContext('2d');\n",
       "\n",
       "    var backingStore =\n",
       "        this.context.backingStorePixelRatio ||\n",
       "        this.context.webkitBackingStorePixelRatio ||\n",
       "        this.context.mozBackingStorePixelRatio ||\n",
       "        this.context.msBackingStorePixelRatio ||\n",
       "        this.context.oBackingStorePixelRatio ||\n",
       "        this.context.backingStorePixelRatio ||\n",
       "        1;\n",
       "\n",
       "    this.ratio = (window.devicePixelRatio || 1) / backingStore;\n",
       "    if (this.ratio !== 1) {\n",
       "        fig.send_message('set_dpi_ratio', { dpi_ratio: this.ratio });\n",
       "    }\n",
       "\n",
       "    var rubberband_canvas = (this.rubberband_canvas = document.createElement(\n",
       "        'canvas'\n",
       "    ));\n",
       "    rubberband_canvas.setAttribute(\n",
       "        'style',\n",
       "        'box-sizing: content-box; position: absolute; left: 0; top: 0; z-index: 1;'\n",
       "    );\n",
       "\n",
       "    var resizeObserver = new ResizeObserver(function (entries) {\n",
       "        var nentries = entries.length;\n",
       "        for (var i = 0; i < nentries; i++) {\n",
       "            var entry = entries[i];\n",
       "            var width, height;\n",
       "            if (entry.contentBoxSize) {\n",
       "                if (entry.contentBoxSize instanceof Array) {\n",
       "                    // Chrome 84 implements new version of spec.\n",
       "                    width = entry.contentBoxSize[0].inlineSize;\n",
       "                    height = entry.contentBoxSize[0].blockSize;\n",
       "                } else {\n",
       "                    // Firefox implements old version of spec.\n",
       "                    width = entry.contentBoxSize.inlineSize;\n",
       "                    height = entry.contentBoxSize.blockSize;\n",
       "                }\n",
       "            } else {\n",
       "                // Chrome <84 implements even older version of spec.\n",
       "                width = entry.contentRect.width;\n",
       "                height = entry.contentRect.height;\n",
       "            }\n",
       "\n",
       "            // Keep the size of the canvas and rubber band canvas in sync with\n",
       "            // the canvas container.\n",
       "            if (entry.devicePixelContentBoxSize) {\n",
       "                // Chrome 84 implements new version of spec.\n",
       "                canvas.setAttribute(\n",
       "                    'width',\n",
       "                    entry.devicePixelContentBoxSize[0].inlineSize\n",
       "                );\n",
       "                canvas.setAttribute(\n",
       "                    'height',\n",
       "                    entry.devicePixelContentBoxSize[0].blockSize\n",
       "                );\n",
       "            } else {\n",
       "                canvas.setAttribute('width', width * fig.ratio);\n",
       "                canvas.setAttribute('height', height * fig.ratio);\n",
       "            }\n",
       "            canvas.setAttribute(\n",
       "                'style',\n",
       "                'width: ' + width + 'px; height: ' + height + 'px;'\n",
       "            );\n",
       "\n",
       "            rubberband_canvas.setAttribute('width', width);\n",
       "            rubberband_canvas.setAttribute('height', height);\n",
       "\n",
       "            // And update the size in Python. We ignore the initial 0/0 size\n",
       "            // that occurs as the element is placed into the DOM, which should\n",
       "            // otherwise not happen due to the minimum size styling.\n",
       "            if (width != 0 && height != 0) {\n",
       "                fig.request_resize(width, height);\n",
       "            }\n",
       "        }\n",
       "    });\n",
       "    resizeObserver.observe(canvas_div);\n",
       "\n",
       "    function on_mouse_event_closure(name) {\n",
       "        return function (event) {\n",
       "            return fig.mouse_event(event, name);\n",
       "        };\n",
       "    }\n",
       "\n",
       "    rubberband_canvas.addEventListener(\n",
       "        'mousedown',\n",
       "        on_mouse_event_closure('button_press')\n",
       "    );\n",
       "    rubberband_canvas.addEventListener(\n",
       "        'mouseup',\n",
       "        on_mouse_event_closure('button_release')\n",
       "    );\n",
       "    // Throttle sequential mouse events to 1 every 20ms.\n",
       "    rubberband_canvas.addEventListener(\n",
       "        'mousemove',\n",
       "        on_mouse_event_closure('motion_notify')\n",
       "    );\n",
       "\n",
       "    rubberband_canvas.addEventListener(\n",
       "        'mouseenter',\n",
       "        on_mouse_event_closure('figure_enter')\n",
       "    );\n",
       "    rubberband_canvas.addEventListener(\n",
       "        'mouseleave',\n",
       "        on_mouse_event_closure('figure_leave')\n",
       "    );\n",
       "\n",
       "    canvas_div.addEventListener('wheel', function (event) {\n",
       "        if (event.deltaY < 0) {\n",
       "            event.step = 1;\n",
       "        } else {\n",
       "            event.step = -1;\n",
       "        }\n",
       "        on_mouse_event_closure('scroll')(event);\n",
       "    });\n",
       "\n",
       "    canvas_div.appendChild(canvas);\n",
       "    canvas_div.appendChild(rubberband_canvas);\n",
       "\n",
       "    this.rubberband_context = rubberband_canvas.getContext('2d');\n",
       "    this.rubberband_context.strokeStyle = '#000000';\n",
       "\n",
       "    this._resize_canvas = function (width, height, forward) {\n",
       "        if (forward) {\n",
       "            canvas_div.style.width = width + 'px';\n",
       "            canvas_div.style.height = height + 'px';\n",
       "        }\n",
       "    };\n",
       "\n",
       "    // Disable right mouse context menu.\n",
       "    this.rubberband_canvas.addEventListener('contextmenu', function (_e) {\n",
       "        event.preventDefault();\n",
       "        return false;\n",
       "    });\n",
       "\n",
       "    function set_focus() {\n",
       "        canvas.focus();\n",
       "        canvas_div.focus();\n",
       "    }\n",
       "\n",
       "    window.setTimeout(set_focus, 100);\n",
       "};\n",
       "\n",
       "mpl.figure.prototype._init_toolbar = function () {\n",
       "    var fig = this;\n",
       "\n",
       "    var toolbar = document.createElement('div');\n",
       "    toolbar.classList = 'mpl-toolbar';\n",
       "    this.root.appendChild(toolbar);\n",
       "\n",
       "    function on_click_closure(name) {\n",
       "        return function (_event) {\n",
       "            return fig.toolbar_button_onclick(name);\n",
       "        };\n",
       "    }\n",
       "\n",
       "    function on_mouseover_closure(tooltip) {\n",
       "        return function (event) {\n",
       "            if (!event.currentTarget.disabled) {\n",
       "                return fig.toolbar_button_onmouseover(tooltip);\n",
       "            }\n",
       "        };\n",
       "    }\n",
       "\n",
       "    fig.buttons = {};\n",
       "    var buttonGroup = document.createElement('div');\n",
       "    buttonGroup.classList = 'mpl-button-group';\n",
       "    for (var toolbar_ind in mpl.toolbar_items) {\n",
       "        var name = mpl.toolbar_items[toolbar_ind][0];\n",
       "        var tooltip = mpl.toolbar_items[toolbar_ind][1];\n",
       "        var image = mpl.toolbar_items[toolbar_ind][2];\n",
       "        var method_name = mpl.toolbar_items[toolbar_ind][3];\n",
       "\n",
       "        if (!name) {\n",
       "            /* Instead of a spacer, we start a new button group. */\n",
       "            if (buttonGroup.hasChildNodes()) {\n",
       "                toolbar.appendChild(buttonGroup);\n",
       "            }\n",
       "            buttonGroup = document.createElement('div');\n",
       "            buttonGroup.classList = 'mpl-button-group';\n",
       "            continue;\n",
       "        }\n",
       "\n",
       "        var button = (fig.buttons[name] = document.createElement('button'));\n",
       "        button.classList = 'mpl-widget';\n",
       "        button.setAttribute('role', 'button');\n",
       "        button.setAttribute('aria-disabled', 'false');\n",
       "        button.addEventListener('click', on_click_closure(method_name));\n",
       "        button.addEventListener('mouseover', on_mouseover_closure(tooltip));\n",
       "\n",
       "        var icon_img = document.createElement('img');\n",
       "        icon_img.src = '_images/' + image + '.png';\n",
       "        icon_img.srcset = '_images/' + image + '_large.png 2x';\n",
       "        icon_img.alt = tooltip;\n",
       "        button.appendChild(icon_img);\n",
       "\n",
       "        buttonGroup.appendChild(button);\n",
       "    }\n",
       "\n",
       "    if (buttonGroup.hasChildNodes()) {\n",
       "        toolbar.appendChild(buttonGroup);\n",
       "    }\n",
       "\n",
       "    var fmt_picker = document.createElement('select');\n",
       "    fmt_picker.classList = 'mpl-widget';\n",
       "    toolbar.appendChild(fmt_picker);\n",
       "    this.format_dropdown = fmt_picker;\n",
       "\n",
       "    for (var ind in mpl.extensions) {\n",
       "        var fmt = mpl.extensions[ind];\n",
       "        var option = document.createElement('option');\n",
       "        option.selected = fmt === mpl.default_extension;\n",
       "        option.innerHTML = fmt;\n",
       "        fmt_picker.appendChild(option);\n",
       "    }\n",
       "\n",
       "    var status_bar = document.createElement('span');\n",
       "    status_bar.classList = 'mpl-message';\n",
       "    toolbar.appendChild(status_bar);\n",
       "    this.message = status_bar;\n",
       "};\n",
       "\n",
       "mpl.figure.prototype.request_resize = function (x_pixels, y_pixels) {\n",
       "    // Request matplotlib to resize the figure. Matplotlib will then trigger a resize in the client,\n",
       "    // which will in turn request a refresh of the image.\n",
       "    this.send_message('resize', { width: x_pixels, height: y_pixels });\n",
       "};\n",
       "\n",
       "mpl.figure.prototype.send_message = function (type, properties) {\n",
       "    properties['type'] = type;\n",
       "    properties['figure_id'] = this.id;\n",
       "    this.ws.send(JSON.stringify(properties));\n",
       "};\n",
       "\n",
       "mpl.figure.prototype.send_draw_message = function () {\n",
       "    if (!this.waiting) {\n",
       "        this.waiting = true;\n",
       "        this.ws.send(JSON.stringify({ type: 'draw', figure_id: this.id }));\n",
       "    }\n",
       "};\n",
       "\n",
       "mpl.figure.prototype.handle_save = function (fig, _msg) {\n",
       "    var format_dropdown = fig.format_dropdown;\n",
       "    var format = format_dropdown.options[format_dropdown.selectedIndex].value;\n",
       "    fig.ondownload(fig, format);\n",
       "};\n",
       "\n",
       "mpl.figure.prototype.handle_resize = function (fig, msg) {\n",
       "    var size = msg['size'];\n",
       "    if (size[0] !== fig.canvas.width || size[1] !== fig.canvas.height) {\n",
       "        fig._resize_canvas(size[0], size[1], msg['forward']);\n",
       "        fig.send_message('refresh', {});\n",
       "    }\n",
       "};\n",
       "\n",
       "mpl.figure.prototype.handle_rubberband = function (fig, msg) {\n",
       "    var x0 = msg['x0'] / fig.ratio;\n",
       "    var y0 = (fig.canvas.height - msg['y0']) / fig.ratio;\n",
       "    var x1 = msg['x1'] / fig.ratio;\n",
       "    var y1 = (fig.canvas.height - msg['y1']) / fig.ratio;\n",
       "    x0 = Math.floor(x0) + 0.5;\n",
       "    y0 = Math.floor(y0) + 0.5;\n",
       "    x1 = Math.floor(x1) + 0.5;\n",
       "    y1 = Math.floor(y1) + 0.5;\n",
       "    var min_x = Math.min(x0, x1);\n",
       "    var min_y = Math.min(y0, y1);\n",
       "    var width = Math.abs(x1 - x0);\n",
       "    var height = Math.abs(y1 - y0);\n",
       "\n",
       "    fig.rubberband_context.clearRect(\n",
       "        0,\n",
       "        0,\n",
       "        fig.canvas.width / fig.ratio,\n",
       "        fig.canvas.height / fig.ratio\n",
       "    );\n",
       "\n",
       "    fig.rubberband_context.strokeRect(min_x, min_y, width, height);\n",
       "};\n",
       "\n",
       "mpl.figure.prototype.handle_figure_label = function (fig, msg) {\n",
       "    // Updates the figure title.\n",
       "    fig.header.textContent = msg['label'];\n",
       "};\n",
       "\n",
       "mpl.figure.prototype.handle_cursor = function (fig, msg) {\n",
       "    var cursor = msg['cursor'];\n",
       "    switch (cursor) {\n",
       "        case 0:\n",
       "            cursor = 'pointer';\n",
       "            break;\n",
       "        case 1:\n",
       "            cursor = 'default';\n",
       "            break;\n",
       "        case 2:\n",
       "            cursor = 'crosshair';\n",
       "            break;\n",
       "        case 3:\n",
       "            cursor = 'move';\n",
       "            break;\n",
       "    }\n",
       "    fig.rubberband_canvas.style.cursor = cursor;\n",
       "};\n",
       "\n",
       "mpl.figure.prototype.handle_message = function (fig, msg) {\n",
       "    fig.message.textContent = msg['message'];\n",
       "};\n",
       "\n",
       "mpl.figure.prototype.handle_draw = function (fig, _msg) {\n",
       "    // Request the server to send over a new figure.\n",
       "    fig.send_draw_message();\n",
       "};\n",
       "\n",
       "mpl.figure.prototype.handle_image_mode = function (fig, msg) {\n",
       "    fig.image_mode = msg['mode'];\n",
       "};\n",
       "\n",
       "mpl.figure.prototype.handle_history_buttons = function (fig, msg) {\n",
       "    for (var key in msg) {\n",
       "        if (!(key in fig.buttons)) {\n",
       "            continue;\n",
       "        }\n",
       "        fig.buttons[key].disabled = !msg[key];\n",
       "        fig.buttons[key].setAttribute('aria-disabled', !msg[key]);\n",
       "    }\n",
       "};\n",
       "\n",
       "mpl.figure.prototype.handle_navigate_mode = function (fig, msg) {\n",
       "    if (msg['mode'] === 'PAN') {\n",
       "        fig.buttons['Pan'].classList.add('active');\n",
       "        fig.buttons['Zoom'].classList.remove('active');\n",
       "    } else if (msg['mode'] === 'ZOOM') {\n",
       "        fig.buttons['Pan'].classList.remove('active');\n",
       "        fig.buttons['Zoom'].classList.add('active');\n",
       "    } else {\n",
       "        fig.buttons['Pan'].classList.remove('active');\n",
       "        fig.buttons['Zoom'].classList.remove('active');\n",
       "    }\n",
       "};\n",
       "\n",
       "mpl.figure.prototype.updated_canvas_event = function () {\n",
       "    // Called whenever the canvas gets updated.\n",
       "    this.send_message('ack', {});\n",
       "};\n",
       "\n",
       "// A function to construct a web socket function for onmessage handling.\n",
       "// Called in the figure constructor.\n",
       "mpl.figure.prototype._make_on_message_function = function (fig) {\n",
       "    return function socket_on_message(evt) {\n",
       "        if (evt.data instanceof Blob) {\n",
       "            /* FIXME: We get \"Resource interpreted as Image but\n",
       "             * transferred with MIME type text/plain:\" errors on\n",
       "             * Chrome.  But how to set the MIME type?  It doesn't seem\n",
       "             * to be part of the websocket stream */\n",
       "            evt.data.type = 'image/png';\n",
       "\n",
       "            /* Free the memory for the previous frames */\n",
       "            if (fig.imageObj.src) {\n",
       "                (window.URL || window.webkitURL).revokeObjectURL(\n",
       "                    fig.imageObj.src\n",
       "                );\n",
       "            }\n",
       "\n",
       "            fig.imageObj.src = (window.URL || window.webkitURL).createObjectURL(\n",
       "                evt.data\n",
       "            );\n",
       "            fig.updated_canvas_event();\n",
       "            fig.waiting = false;\n",
       "            return;\n",
       "        } else if (\n",
       "            typeof evt.data === 'string' &&\n",
       "            evt.data.slice(0, 21) === 'data:image/png;base64'\n",
       "        ) {\n",
       "            fig.imageObj.src = evt.data;\n",
       "            fig.updated_canvas_event();\n",
       "            fig.waiting = false;\n",
       "            return;\n",
       "        }\n",
       "\n",
       "        var msg = JSON.parse(evt.data);\n",
       "        var msg_type = msg['type'];\n",
       "\n",
       "        // Call the  \"handle_{type}\" callback, which takes\n",
       "        // the figure and JSON message as its only arguments.\n",
       "        try {\n",
       "            var callback = fig['handle_' + msg_type];\n",
       "        } catch (e) {\n",
       "            console.log(\n",
       "                \"No handler for the '\" + msg_type + \"' message type: \",\n",
       "                msg\n",
       "            );\n",
       "            return;\n",
       "        }\n",
       "\n",
       "        if (callback) {\n",
       "            try {\n",
       "                // console.log(\"Handling '\" + msg_type + \"' message: \", msg);\n",
       "                callback(fig, msg);\n",
       "            } catch (e) {\n",
       "                console.log(\n",
       "                    \"Exception inside the 'handler_\" + msg_type + \"' callback:\",\n",
       "                    e,\n",
       "                    e.stack,\n",
       "                    msg\n",
       "                );\n",
       "            }\n",
       "        }\n",
       "    };\n",
       "};\n",
       "\n",
       "// from http://stackoverflow.com/questions/1114465/getting-mouse-location-in-canvas\n",
       "mpl.findpos = function (e) {\n",
       "    //this section is from http://www.quirksmode.org/js/events_properties.html\n",
       "    var targ;\n",
       "    if (!e) {\n",
       "        e = window.event;\n",
       "    }\n",
       "    if (e.target) {\n",
       "        targ = e.target;\n",
       "    } else if (e.srcElement) {\n",
       "        targ = e.srcElement;\n",
       "    }\n",
       "    if (targ.nodeType === 3) {\n",
       "        // defeat Safari bug\n",
       "        targ = targ.parentNode;\n",
       "    }\n",
       "\n",
       "    // pageX,Y are the mouse positions relative to the document\n",
       "    var boundingRect = targ.getBoundingClientRect();\n",
       "    var x = e.pageX - (boundingRect.left + document.body.scrollLeft);\n",
       "    var y = e.pageY - (boundingRect.top + document.body.scrollTop);\n",
       "\n",
       "    return { x: x, y: y };\n",
       "};\n",
       "\n",
       "/*\n",
       " * return a copy of an object with only non-object keys\n",
       " * we need this to avoid circular references\n",
       " * http://stackoverflow.com/a/24161582/3208463\n",
       " */\n",
       "function simpleKeys(original) {\n",
       "    return Object.keys(original).reduce(function (obj, key) {\n",
       "        if (typeof original[key] !== 'object') {\n",
       "            obj[key] = original[key];\n",
       "        }\n",
       "        return obj;\n",
       "    }, {});\n",
       "}\n",
       "\n",
       "mpl.figure.prototype.mouse_event = function (event, name) {\n",
       "    var canvas_pos = mpl.findpos(event);\n",
       "\n",
       "    if (name === 'button_press') {\n",
       "        this.canvas.focus();\n",
       "        this.canvas_div.focus();\n",
       "    }\n",
       "\n",
       "    var x = canvas_pos.x * this.ratio;\n",
       "    var y = canvas_pos.y * this.ratio;\n",
       "\n",
       "    this.send_message(name, {\n",
       "        x: x,\n",
       "        y: y,\n",
       "        button: event.button,\n",
       "        step: event.step,\n",
       "        guiEvent: simpleKeys(event),\n",
       "    });\n",
       "\n",
       "    /* This prevents the web browser from automatically changing to\n",
       "     * the text insertion cursor when the button is pressed.  We want\n",
       "     * to control all of the cursor setting manually through the\n",
       "     * 'cursor' event from matplotlib */\n",
       "    event.preventDefault();\n",
       "    return false;\n",
       "};\n",
       "\n",
       "mpl.figure.prototype._key_event_extra = function (_event, _name) {\n",
       "    // Handle any extra behaviour associated with a key event\n",
       "};\n",
       "\n",
       "mpl.figure.prototype.key_event = function (event, name) {\n",
       "    // Prevent repeat events\n",
       "    if (name === 'key_press') {\n",
       "        if (event.which === this._key) {\n",
       "            return;\n",
       "        } else {\n",
       "            this._key = event.which;\n",
       "        }\n",
       "    }\n",
       "    if (name === 'key_release') {\n",
       "        this._key = null;\n",
       "    }\n",
       "\n",
       "    var value = '';\n",
       "    if (event.ctrlKey && event.which !== 17) {\n",
       "        value += 'ctrl+';\n",
       "    }\n",
       "    if (event.altKey && event.which !== 18) {\n",
       "        value += 'alt+';\n",
       "    }\n",
       "    if (event.shiftKey && event.which !== 16) {\n",
       "        value += 'shift+';\n",
       "    }\n",
       "\n",
       "    value += 'k';\n",
       "    value += event.which.toString();\n",
       "\n",
       "    this._key_event_extra(event, name);\n",
       "\n",
       "    this.send_message(name, { key: value, guiEvent: simpleKeys(event) });\n",
       "    return false;\n",
       "};\n",
       "\n",
       "mpl.figure.prototype.toolbar_button_onclick = function (name) {\n",
       "    if (name === 'download') {\n",
       "        this.handle_save(this, null);\n",
       "    } else {\n",
       "        this.send_message('toolbar_button', { name: name });\n",
       "    }\n",
       "};\n",
       "\n",
       "mpl.figure.prototype.toolbar_button_onmouseover = function (tooltip) {\n",
       "    this.message.textContent = tooltip;\n",
       "};\n",
       "mpl.toolbar_items = [[\"Home\", \"Reset original view\", \"fa fa-home icon-home\", \"home\"], [\"Back\", \"Back to previous view\", \"fa fa-arrow-left icon-arrow-left\", \"back\"], [\"Forward\", \"Forward to next view\", \"fa fa-arrow-right icon-arrow-right\", \"forward\"], [\"\", \"\", \"\", \"\"], [\"Pan\", \"Left button pans, Right button zooms\\nx/y fixes axis, CTRL fixes aspect\", \"fa fa-arrows icon-move\", \"pan\"], [\"Zoom\", \"Zoom to rectangle\\nx/y fixes axis, CTRL fixes aspect\", \"fa fa-square-o icon-check-empty\", \"zoom\"], [\"\", \"\", \"\", \"\"], [\"Download\", \"Download plot\", \"fa fa-floppy-o icon-save\", \"download\"]];\n",
       "\n",
       "mpl.extensions = [\"eps\", \"jpeg\", \"pdf\", \"png\", \"ps\", \"raw\", \"svg\", \"tif\"];\n",
       "\n",
       "mpl.default_extension = \"png\";/* global mpl */\n",
       "\n",
       "var comm_websocket_adapter = function (comm) {\n",
       "    // Create a \"websocket\"-like object which calls the given IPython comm\n",
       "    // object with the appropriate methods. Currently this is a non binary\n",
       "    // socket, so there is still some room for performance tuning.\n",
       "    var ws = {};\n",
       "\n",
       "    ws.close = function () {\n",
       "        comm.close();\n",
       "    };\n",
       "    ws.send = function (m) {\n",
       "        //console.log('sending', m);\n",
       "        comm.send(m);\n",
       "    };\n",
       "    // Register the callback with on_msg.\n",
       "    comm.on_msg(function (msg) {\n",
       "        //console.log('receiving', msg['content']['data'], msg);\n",
       "        // Pass the mpl event to the overridden (by mpl) onmessage function.\n",
       "        ws.onmessage(msg['content']['data']);\n",
       "    });\n",
       "    return ws;\n",
       "};\n",
       "\n",
       "mpl.mpl_figure_comm = function (comm, msg) {\n",
       "    // This is the function which gets called when the mpl process\n",
       "    // starts-up an IPython Comm through the \"matplotlib\" channel.\n",
       "\n",
       "    var id = msg.content.data.id;\n",
       "    // Get hold of the div created by the display call when the Comm\n",
       "    // socket was opened in Python.\n",
       "    var element = document.getElementById(id);\n",
       "    var ws_proxy = comm_websocket_adapter(comm);\n",
       "\n",
       "    function ondownload(figure, _format) {\n",
       "        window.open(figure.canvas.toDataURL());\n",
       "    }\n",
       "\n",
       "    var fig = new mpl.figure(id, ws_proxy, ondownload, element);\n",
       "\n",
       "    // Call onopen now - mpl needs it, as it is assuming we've passed it a real\n",
       "    // web socket which is closed, not our websocket->open comm proxy.\n",
       "    ws_proxy.onopen();\n",
       "\n",
       "    fig.parent_element = element;\n",
       "    fig.cell_info = mpl.find_output_cell(\"<div id='\" + id + \"'></div>\");\n",
       "    if (!fig.cell_info) {\n",
       "        console.error('Failed to find cell for figure', id, fig);\n",
       "        return;\n",
       "    }\n",
       "    fig.cell_info[0].output_area.element.one(\n",
       "        'cleared',\n",
       "        { fig: fig },\n",
       "        fig._remove_fig_handler\n",
       "    );\n",
       "};\n",
       "\n",
       "mpl.figure.prototype.handle_close = function (fig, msg) {\n",
       "    var width = fig.canvas.width / fig.ratio;\n",
       "    fig.cell_info[0].output_area.element.off(\n",
       "        'cleared',\n",
       "        fig._remove_fig_handler\n",
       "    );\n",
       "\n",
       "    // Update the output cell to use the data from the current canvas.\n",
       "    fig.push_to_output();\n",
       "    var dataURL = fig.canvas.toDataURL();\n",
       "    // Re-enable the keyboard manager in IPython - without this line, in FF,\n",
       "    // the notebook keyboard shortcuts fail.\n",
       "    IPython.keyboard_manager.enable();\n",
       "    fig.parent_element.innerHTML =\n",
       "        '<img src=\"' + dataURL + '\" width=\"' + width + '\">';\n",
       "    fig.close_ws(fig, msg);\n",
       "};\n",
       "\n",
       "mpl.figure.prototype.close_ws = function (fig, msg) {\n",
       "    fig.send_message('closing', msg);\n",
       "    // fig.ws.close()\n",
       "};\n",
       "\n",
       "mpl.figure.prototype.push_to_output = function (_remove_interactive) {\n",
       "    // Turn the data on the canvas into data in the output cell.\n",
       "    var width = this.canvas.width / this.ratio;\n",
       "    var dataURL = this.canvas.toDataURL();\n",
       "    this.cell_info[1]['text/html'] =\n",
       "        '<img src=\"' + dataURL + '\" width=\"' + width + '\">';\n",
       "};\n",
       "\n",
       "mpl.figure.prototype.updated_canvas_event = function () {\n",
       "    // Tell IPython that the notebook contents must change.\n",
       "    IPython.notebook.set_dirty(true);\n",
       "    this.send_message('ack', {});\n",
       "    var fig = this;\n",
       "    // Wait a second, then push the new image to the DOM so\n",
       "    // that it is saved nicely (might be nice to debounce this).\n",
       "    setTimeout(function () {\n",
       "        fig.push_to_output();\n",
       "    }, 1000);\n",
       "};\n",
       "\n",
       "mpl.figure.prototype._init_toolbar = function () {\n",
       "    var fig = this;\n",
       "\n",
       "    var toolbar = document.createElement('div');\n",
       "    toolbar.classList = 'btn-toolbar';\n",
       "    this.root.appendChild(toolbar);\n",
       "\n",
       "    function on_click_closure(name) {\n",
       "        return function (_event) {\n",
       "            return fig.toolbar_button_onclick(name);\n",
       "        };\n",
       "    }\n",
       "\n",
       "    function on_mouseover_closure(tooltip) {\n",
       "        return function (event) {\n",
       "            if (!event.currentTarget.disabled) {\n",
       "                return fig.toolbar_button_onmouseover(tooltip);\n",
       "            }\n",
       "        };\n",
       "    }\n",
       "\n",
       "    fig.buttons = {};\n",
       "    var buttonGroup = document.createElement('div');\n",
       "    buttonGroup.classList = 'btn-group';\n",
       "    var button;\n",
       "    for (var toolbar_ind in mpl.toolbar_items) {\n",
       "        var name = mpl.toolbar_items[toolbar_ind][0];\n",
       "        var tooltip = mpl.toolbar_items[toolbar_ind][1];\n",
       "        var image = mpl.toolbar_items[toolbar_ind][2];\n",
       "        var method_name = mpl.toolbar_items[toolbar_ind][3];\n",
       "\n",
       "        if (!name) {\n",
       "            /* Instead of a spacer, we start a new button group. */\n",
       "            if (buttonGroup.hasChildNodes()) {\n",
       "                toolbar.appendChild(buttonGroup);\n",
       "            }\n",
       "            buttonGroup = document.createElement('div');\n",
       "            buttonGroup.classList = 'btn-group';\n",
       "            continue;\n",
       "        }\n",
       "\n",
       "        button = fig.buttons[name] = document.createElement('button');\n",
       "        button.classList = 'btn btn-default';\n",
       "        button.href = '#';\n",
       "        button.title = name;\n",
       "        button.innerHTML = '<i class=\"fa ' + image + ' fa-lg\"></i>';\n",
       "        button.addEventListener('click', on_click_closure(method_name));\n",
       "        button.addEventListener('mouseover', on_mouseover_closure(tooltip));\n",
       "        buttonGroup.appendChild(button);\n",
       "    }\n",
       "\n",
       "    if (buttonGroup.hasChildNodes()) {\n",
       "        toolbar.appendChild(buttonGroup);\n",
       "    }\n",
       "\n",
       "    // Add the status bar.\n",
       "    var status_bar = document.createElement('span');\n",
       "    status_bar.classList = 'mpl-message pull-right';\n",
       "    toolbar.appendChild(status_bar);\n",
       "    this.message = status_bar;\n",
       "\n",
       "    // Add the close button to the window.\n",
       "    var buttongrp = document.createElement('div');\n",
       "    buttongrp.classList = 'btn-group inline pull-right';\n",
       "    button = document.createElement('button');\n",
       "    button.classList = 'btn btn-mini btn-primary';\n",
       "    button.href = '#';\n",
       "    button.title = 'Stop Interaction';\n",
       "    button.innerHTML = '<i class=\"fa fa-power-off icon-remove icon-large\"></i>';\n",
       "    button.addEventListener('click', function (_evt) {\n",
       "        fig.handle_close(fig, {});\n",
       "    });\n",
       "    button.addEventListener(\n",
       "        'mouseover',\n",
       "        on_mouseover_closure('Stop Interaction')\n",
       "    );\n",
       "    buttongrp.appendChild(button);\n",
       "    var titlebar = this.root.querySelector('.ui-dialog-titlebar');\n",
       "    titlebar.insertBefore(buttongrp, titlebar.firstChild);\n",
       "};\n",
       "\n",
       "mpl.figure.prototype._remove_fig_handler = function (event) {\n",
       "    var fig = event.data.fig;\n",
       "    fig.close_ws(fig, {});\n",
       "};\n",
       "\n",
       "mpl.figure.prototype._root_extra_style = function (el) {\n",
       "    el.style.boxSizing = 'content-box'; // override notebook setting of border-box.\n",
       "};\n",
       "\n",
       "mpl.figure.prototype._canvas_extra_style = function (el) {\n",
       "    // this is important to make the div 'focusable\n",
       "    el.setAttribute('tabindex', 0);\n",
       "    // reach out to IPython and tell the keyboard manager to turn it's self\n",
       "    // off when our div gets focus\n",
       "\n",
       "    // location in version 3\n",
       "    if (IPython.notebook.keyboard_manager) {\n",
       "        IPython.notebook.keyboard_manager.register_events(el);\n",
       "    } else {\n",
       "        // location in version 2\n",
       "        IPython.keyboard_manager.register_events(el);\n",
       "    }\n",
       "};\n",
       "\n",
       "mpl.figure.prototype._key_event_extra = function (event, _name) {\n",
       "    var manager = IPython.notebook.keyboard_manager;\n",
       "    if (!manager) {\n",
       "        manager = IPython.keyboard_manager;\n",
       "    }\n",
       "\n",
       "    // Check for shift+enter\n",
       "    if (event.shiftKey && event.which === 13) {\n",
       "        this.canvas_div.blur();\n",
       "        // select the cell after this one\n",
       "        var index = IPython.notebook.find_cell_index(this.cell_info[0]);\n",
       "        IPython.notebook.select(index + 1);\n",
       "    }\n",
       "};\n",
       "\n",
       "mpl.figure.prototype.handle_save = function (fig, _msg) {\n",
       "    fig.ondownload(fig, null);\n",
       "};\n",
       "\n",
       "mpl.find_output_cell = function (html_output) {\n",
       "    // Return the cell and output element which can be found *uniquely* in the notebook.\n",
       "    // Note - this is a bit hacky, but it is done because the \"notebook_saving.Notebook\"\n",
       "    // IPython event is triggered only after the cells have been serialised, which for\n",
       "    // our purposes (turning an active figure into a static one), is too late.\n",
       "    var cells = IPython.notebook.get_cells();\n",
       "    var ncells = cells.length;\n",
       "    for (var i = 0; i < ncells; i++) {\n",
       "        var cell = cells[i];\n",
       "        if (cell.cell_type === 'code') {\n",
       "            for (var j = 0; j < cell.output_area.outputs.length; j++) {\n",
       "                var data = cell.output_area.outputs[j];\n",
       "                if (data.data) {\n",
       "                    // IPython >= 3 moved mimebundle to data attribute of output\n",
       "                    data = data.data;\n",
       "                }\n",
       "                if (data['text/html'] === html_output) {\n",
       "                    return [cell, data, j];\n",
       "                }\n",
       "            }\n",
       "        }\n",
       "    }\n",
       "};\n",
       "\n",
       "// Register the function which deals with the matplotlib target/channel.\n",
       "// The kernel may be null if the page has been refreshed.\n",
       "if (IPython.notebook.kernel !== null) {\n",
       "    IPython.notebook.kernel.comm_manager.register_target(\n",
       "        'matplotlib',\n",
       "        mpl.mpl_figure_comm\n",
       "    );\n",
       "}\n"
      ],
      "text/plain": [
       "<IPython.core.display.Javascript object>"
      ]
     },
     "metadata": {},
     "output_type": "display_data"
    },
    {
     "data": {
      "text/html": [
       "<img src=\"data:image/png;base64,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\" width=\"1000\">"
      ],
      "text/plain": [
       "<IPython.core.display.HTML object>"
      ]
     },
     "metadata": {},
     "output_type": "display_data"
    }
   ],
   "source": [
    "linkage = Linkage()"
   ]
  },
  {
   "cell_type": "code",
   "execution_count": 17,
   "metadata": {},
   "outputs": [
    {
     "name": "stdout",
     "output_type": "stream",
     "text": [
      "point A\n"
     ]
    }
   ],
   "source": [
    "A = linkage.add_atpoint(at=[1,0,0])"
   ]
  },
  {
   "cell_type": "code",
   "execution_count": 18,
   "metadata": {},
   "outputs": [
    {
     "name": "stdout",
     "output_type": "stream",
     "text": [
      "point A\n",
      "point B\n"
     ]
    }
   ],
   "source": [
    "B = linkage.add_anchorpoint(at=[2,0,0])"
   ]
  },
  {
   "cell_type": "code",
   "execution_count": 19,
   "metadata": {},
   "outputs": [
    {
     "name": "stdout",
     "output_type": "stream",
     "text": [
      "point A\n",
      "point B\n",
      "point C\n"
     ]
    }
   ],
   "source": [
    "C = linkage.add_onpointpoint(parent=B)"
   ]
  },
  {
   "cell_type": "code",
   "execution_count": 20,
   "metadata": {},
   "outputs": [
    {
     "name": "stdout",
     "output_type": "stream",
     "text": [
      "point A\n",
      "point B\n",
      "point C\n",
      "point D\n"
     ]
    }
   ],
   "source": [
    "D = linkage.add_topointpoint(parent=C, at=[3,0,0])"
   ]
  },
  {
   "cell_type": "code",
   "execution_count": 21,
   "metadata": {},
   "outputs": [
    {
     "name": "stdout",
     "output_type": "stream",
     "text": [
      "point A\n",
      "point B\n",
      "point C\n",
      "point D\n",
      "line a\n"
     ]
    }
   ],
   "source": [
    "cd = linkage.add_frompointline(p=C, L=2, theta=45, phi=None, ux=None, uz=None)"
   ]
  },
  {
   "cell_type": "code",
   "execution_count": 22,
   "metadata": {},
   "outputs": [
    {
     "ename": "NameError",
     "evalue": "name 'zz' is not defined",
     "output_type": "error",
     "traceback": [
      "\u001b[0;31m---------------------------------------------------------------------------\u001b[0m",
      "\u001b[0;31mNameError\u001b[0m                                 Traceback (most recent call last)",
      "\u001b[0;32m<ipython-input-22-15546de8c3b0>\u001b[0m in \u001b[0;36m<module>\u001b[0;34m()\u001b[0m\n\u001b[0;32m----> 1\u001b[0;31m \u001b[0mzz\u001b[0m\u001b[0;34m\u001b[0m\u001b[0;34m\u001b[0m\u001b[0m\n\u001b[0m",
      "\u001b[0;31mNameError\u001b[0m: name 'zz' is not defined"
     ]
    }
   ],
   "source": [
    "zz"
   ]
  },
  {
   "cell_type": "code",
   "execution_count": null,
   "metadata": {},
   "outputs": [],
   "source": [
    "class Point(torch.nn.Module):\n",
    "    def __init__(self, linkage, name, at=None, on=None, anchored_at=None):\n",
    "        super(Point, self).__init__()\n",
    "        self.linkage = linkage\n",
    "        self.name = name\n",
    "        if at is not None:\n",
    "            self.mode = 'at'\n",
    "            self.type = 'free_point'\n",
    "            self.parent = None\n",
    "            self._r = torch.nn.Parameter(torch.tensor(at).to(torch.float))\n",
    "        elif on is not None:\n",
    "            self.mode = 'on'\n",
    "            self.type = 'co_point'\n",
    "            self.parent = on\n",
    "            if self.parent.__class__.__name__ is 'Point':\n",
    "                self._r = self.parent.r\n",
    "            elif self.parent.__class__.__name__ is 'Line':\n",
    "                raise Exception()\n",
    "        elif anchored_at is not None:\n",
    "            self.mode = 'anchored_at'\n",
    "            self.type = 'anchored_point'\n",
    "            self.parent = None\n",
    "            self._r = torch.tensor(anchored_at).to(torch.float)\n",
    "        else:\n",
    "            self.mode = None\n",
    "            self.type = 'null_point'\n",
    "            self.parent = None\n",
    "            self._r = None\n",
    "        self.alpha = torch.nn.Parameter(torch.tensor([0.5]).to(torch.float))\n",
    "    \n",
    "    def __repr__(self):\n",
    "        if self.mode is 'at':\n",
    "            return('Point_{}(at={})'.format(self.name, str(self.r.tolist())))\n",
    "        elif self.mode is 'on':\n",
    "            return('Point_{}(on={})'.format(self.name, str(self.parent)))\n",
    "        elif self.mode is 'anchored_at':\n",
    "            return('Point_{}(anchored_at={})'.format(self.name, str(self.r.tolist())))\n",
    "        else:\n",
    "            return('Point_{}(None)'.format(self.name))\n",
    "        \n",
    "    @property\n",
    "    def r(self):\n",
    "        if self.parent is None:\n",
    "            return(self._r)\n",
    "        elif self.parent.__class__.__name__ is 'Point':\n",
    "            return(self.parent.r)\n",
    "        elif self.parent.__class__.__name__ is 'Line':\n",
    "            return(self.alpha*self.parent.p1.r + (1-self.alpha)*self.parent.p2.r)\n",
    "\n",
    "    def root(self):\n",
    "        if self.parent is None:\n",
    "            return(self)\n",
    "        elif self.parent.__class__.__name__ is not 'Point':\n",
    "            return(self)\n",
    "        return(self.parent.root())\n",
    "    \n",
    "    def constrain_on(self, parent):\n",
    "        self.mode = 'on'\n",
    "        self.type = 'co_point'\n",
    "        self.parent = parent\n",
    "        try:\n",
    "            self.linkage.update()\n",
    "        except:\n",
    "            pass"
   ]
  },
  {
   "cell_type": "code",
   "execution_count": null,
   "metadata": {},
   "outputs": [],
   "source": [
    "class Line(torch.nn.Module):\n",
    "    def __init__(self, linkage, name, r1, r2):\n",
    "        super(Line, self).__init__()\n",
    "        self.linkage = linkage\n",
    "        self.name = name\n",
    "        self.target_length = None\n",
    "        if r1.__class__.__name__ is 'Point':\n",
    "            self.p1 = Point(self.linkage, '{}{}'.format(self.name, '1'), on=r1)\n",
    "        else:\n",
    "            self.p1 = Point(self.linkage, '{}{}'.format(self.name, '1'), at=r1)\n",
    "        if r2.__class__.__name__ is 'Point':\n",
    "            self.p2 = Point(self.linkage, '{}{}'.format(self.name, '2'), on=r2)\n",
    "        else:\n",
    "            self.p2 = Point(self.linkage, '{}{}'.format(self.name, '2'), at=r2)\n",
    "        self.mode = None\n",
    "        self.parent = None\n",
    "        \n",
    "    def __repr__(self):\n",
    "        return('Line_{}(p1={}, p2={})'.format(self.name, str(self.p1), str(self.p2)))\n",
    "    \n",
    "    @property\n",
    "    def r(self):\n",
    "        r = self.p2.r - self.p1.r\n",
    "        return(r)\n",
    "    \n",
    "    def length(self):\n",
    "        L = (self.p2.r-self.p1.r).pow(2).sum().pow(0.5)\n",
    "        return(L)\n",
    "    \n",
    "    def constrain_length(self, L=None):\n",
    "        if L is None:\n",
    "            self.target_length = self.length().item()\n",
    "        else:\n",
    "            self.target_length = L\n",
    "        self.linkage.update()\n",
    "        \n",
    "    def is_constrained(self):\n",
    "        return(self.target_length is not None)\n",
    "        \n",
    "    def soft_abs(self, x):\n",
    "        a = 10.0\n",
    "        y = a*(x.abs()).pow(3)\n",
    "        y /= (1.0+a*x.pow(2))\n",
    "        return(y)\n",
    "        \n",
    "    def energy(self):\n",
    "        E = 0.0\n",
    "        if self.target_length is not None:\n",
    "            d = self.length() - self.target_length\n",
    "            E += d.pow(2) + 0.0*torch.abs(d)\n",
    "        return(E)\n",
    "    \n",
    "    def constrain_on(self, parent):\n",
    "        self.parent = parent\n",
    "        if self.parent.__class__.__name__ is 'Point':\n",
    "            self.mode = 'on_point'\n",
    "        elif self.parent.__class__.__name__ is 'Line':\n",
    "            self.mode = 'on_line'\n",
    "        self.linkage.update()"
   ]
  },
  {
   "cell_type": "code",
   "execution_count": null,
   "metadata": {},
   "outputs": [],
   "source": [
    "'''\n",
    "class Angle(torch.nn.Module):\n",
    "    def __init__(self, linkage, line1, line2):\n",
    "        super(Angle, self).__init__()\n",
    "        self.linkage = linkage\n",
    "        self.line1 = line1\n",
    "        self.line2 = line2\n",
    "        self.target_theta = None\n",
    "        self.axis = None\n",
    "        self.ccw = False\n",
    "        \n",
    "    def __repr__(self):\n",
    "        return('Angle({},{})'.format(self.line1.name, self.line2.name))\n",
    "    \n",
    "    def theta(self, ccw=False):\n",
    "        r1 = self.line1.r\n",
    "        r2 = self.line2.r\n",
    "        if self.line1.p1.root() is not self.line2.p1.root():\n",
    "            r2 = -r2\n",
    "        u1 = r1/(r1.pow(2).sum().pow(0.5))\n",
    "        u2 = r2/(r2.pow(2).sum().pow(0.5))\n",
    "        cos_theta = (u1*u2).sum()\n",
    "        theta = torch.arccos(cos_theta)\n",
    "        if ccw is True:\n",
    "            s = torch.sign(torch.cross(u1, u2)[2])\n",
    "            theta = np.pi*(1-s)+s*theta\n",
    "        theta *= 180/np.pi\n",
    "        return(theta)\n",
    "    \n",
    "    def constrain_angle(self, theta=None, axis=None, ccw=False):\n",
    "        self.ccw = ccw\n",
    "        if axis is None:\n",
    "            self.axis = torch.tensor([0,0,1]).to(torch.float)\n",
    "        else:\n",
    "            self.axis = axis/(axis.pow(2).sum().pow(0.5))\n",
    "        if theta is None:\n",
    "            self.target_theta = self.theta()\n",
    "        else:\n",
    "            theta %= 360\n",
    "            self.target_theta = torch.tensor(theta).to(torch.float)\n",
    "        self.linkage.update()\n",
    "        \n",
    "    def is_constrained(self):\n",
    "        return(self.target_theta is not None)\n",
    "        \n",
    "    def soft_abs(self, x):\n",
    "        a = 10.0\n",
    "        y = a*(x.abs()).pow(3)\n",
    "        y /= (1.0+a*x.pow(2))\n",
    "        return(y)\n",
    "        \n",
    "    def energy(self):\n",
    "        E = 0.0\n",
    "        if self.target_theta is not None:\n",
    "            rx = self.line1.r\n",
    "            ux = rx/(rx.pow(2).sum().pow(0.5))\n",
    "            if self.line1.p1.root() is not self.line2.p1.root():\n",
    "                ux = -ux\n",
    "                origin = torch.tensor(self.line1.p2.r.tolist()).to(torch.float)\n",
    "            else:\n",
    "                origin = torch.tensor(self.line1.p1.r.tolist()).to(torch.float)\n",
    "            free_point = self.line2.p2\n",
    "            uz = self.axis\n",
    "            uy = torch.cross(uz, ux)\n",
    "            target_point = 0.0\n",
    "            target_point += origin\n",
    "            target_point += torch.cos(self.target_theta*np.pi/180)*ux\n",
    "            target_point += torch.sin(self.target_theta*np.pi/180)*uy\n",
    "            target_point = torch.tensor(target_point.tolist()).to(torch.float)\n",
    "            E += (target_point-free_point.r).pow(2).sum()\n",
    "            #E += self.soft_abs((self.theta(self.ccw)*np.pi/180-self.target_theta)*np.pi/180)\n",
    "            #E += torch.abs(torch.cos(self.theta(self.ccw)*np.pi/180)-torch.cos(self.target_theta*np.pi/180))\n",
    "            #E += torch.abs(torch.sin(self.theta(self.ccw)*np.pi/180)-torch.sin(self.target_theta*np.pi/180))\n",
    "        return(E)\n",
    "''';"
   ]
  },
  {
   "cell_type": "code",
   "execution_count": null,
   "metadata": {},
   "outputs": [],
   "source": [
    "class Linkage():\n",
    "    def __init__(self):       \n",
    "        self.points = torch.nn.ModuleDict({})\n",
    "        self.anchors = torch.nn.ModuleDict({})\n",
    "        self.lines = torch.nn.ModuleDict({})\n",
    "        self.angles = torch.nn.ModuleDict({})\n",
    "        self.names = {}\n",
    "        for _type in ['point', 'line']:\n",
    "            self.names[_type] = []\n",
    "            letters = string.ascii_letters[-26:]\n",
    "            if _type is 'line':\n",
    "                letters = letters.lower()\n",
    "            for n in range(3):\n",
    "                for t in itertools.product(letters, repeat=n):\n",
    "                    self.names[_type].append(''.join(t))\n",
    "            self.names[_type] = iter(self.names[_type][1:])\n",
    "        self.names['anchor'] = self.names['point']\n",
    "        self.plot = LinkagePlot(self)\n",
    "        self.tolerance = 0.00001\n",
    "    \n",
    "    def add_point_at(self, r):\n",
    "        name = next(self.names['point'])\n",
    "        self.points[name] = Point(self, name, at=r)\n",
    "        self.plot.update()\n",
    "        return(self.points[name])\n",
    "        \n",
    "    def add_point_on(self, p):\n",
    "        name = next(self.names['point'])\n",
    "        self.points[name] = Point(self, name, on=p)\n",
    "        self.plot.update()\n",
    "        return(self.points[name])\n",
    "    \n",
    "    def add_anchor_at(self, r):\n",
    "        name = next(self.names['anchor'])\n",
    "        self.anchors[name] = Point(self, name, anchored_at=r)\n",
    "        self.plot.update()\n",
    "        return(self.anchors[name])\n",
    "    \n",
    "    def add_line(self, r1, r2):\n",
    "        name = next(self.names['line'])\n",
    "        self.lines[name] = Line(self, name, r1, r2)\n",
    "        self.plot.update()\n",
    "        return(self.lines[name])\n",
    "        \n",
    "    def add_angle(self, line1, line2):\n",
    "        name = '{}_{}'.format(line1.name, line2.name)\n",
    "        self.angles[name] = Angle(self, line1, line2)\n",
    "        self.plot.update()\n",
    "        return(self.angles[name])\n",
    "        \n",
    "    @property\n",
    "    def N(self):\n",
    "        N = 0\n",
    "        N += len(self.points)\n",
    "        N += len(self.anchors)\n",
    "        N += 2*len(self.lines)\n",
    "        return(N)\n",
    "    \n",
    "    @property\n",
    "    def M(self):\n",
    "        return(len(self.lines))\n",
    "     \n",
    "    def parameters(self):\n",
    "        parameters = []\n",
    "        for point in self.points.values():\n",
    "            for param in point.parameters():\n",
    "                parameters.append(param)\n",
    "        for anchor in self.anchors.values():\n",
    "            for param in anchor.parameters():\n",
    "                parameters.append(param)\n",
    "        for line in self.lines.values():\n",
    "            for param in line.parameters():\n",
    "                parameters.append(param)\n",
    "        return(parameters)\n",
    "        \n",
    "    def xyz(self):\n",
    "        xyz = torch.zeros((self.N, 3))\n",
    "        n = 0\n",
    "        for point in self.points.values():\n",
    "            xyz[n] += point.r\n",
    "            n += 1\n",
    "        for anchor in self.anchors.values():\n",
    "            xyz[n] += anchor.r\n",
    "            n += 1\n",
    "        for line in self.lines.values():\n",
    "            xyz[n] += line.p1.r\n",
    "            xyz[n+1] += line.p2.r\n",
    "            n += 2\n",
    "        return(xyz)\n",
    "        \n",
    "    def energy(self):\n",
    "        E = 0.0\n",
    "        for line in self.lines.values():\n",
    "            E += line.energy()\n",
    "        for angle in self.angles.values():\n",
    "            E += angle.energy()\n",
    "        return(E)\n",
    "            \n",
    "    def update(self, max_num_epochs=10000):\n",
    "        optimizer = torch.optim.Adam(self.parameters(), lr=0.001) #SGD\n",
    "        for epoch in range(max_num_epochs):\n",
    "            optimizer.zero_grad()\n",
    "            E = self.energy()\n",
    "            E.backward()\n",
    "            optimizer.step()\n",
    "            self.plot.E_list.append(E.item())\n",
    "            if E <= self.tolerance:\n",
    "                break\n",
    "        if (E > self.tolerance or E.isnan()):\n",
    "            raise Exception('Could not solve all constraints.')\n",
    "        self.plot.update()\n",
    "        time.sleep(0.01)"
   ]
  },
  {
   "cell_type": "code",
   "execution_count": null,
   "metadata": {},
   "outputs": [],
   "source": [
    "class LinkagePlot():\n",
    "    def __init__(self, linkage):\n",
    "        self.linkage = linkage\n",
    "        self.origin = torch.tensor([0,0,0])\n",
    "        self.E_list = [10000.0]\n",
    "        \n",
    "        # Set up figure and axis\n",
    "        self.size = 5\n",
    "        self.lim = 5\n",
    "        self.fig = plt.figure(figsize=(2*self.size,self.size))\n",
    "        self.ax1 = self.fig.add_subplot(121, autoscale_on=False,\n",
    "            xlim=(-self.lim,self.lim),\n",
    "            ylim=(-self.lim,self.lim))\n",
    "        self.ax2 = self.fig.add_subplot(122, autoscale_on=False,\n",
    "            xlim=(0,1),\n",
    "            ylim=(0,1))\n",
    "        self.ax1.set_title('Configuration')\n",
    "        self.ax2.set_title('log10(E)')\n",
    "        \n",
    "        self.ax1.scatter(\n",
    "            [self.origin[0]], [self.origin[1]],\n",
    "            marker='o', s=20, c='red', alpha=1, label='origin')\n",
    "        \n",
    "        self.points, self.anchors, self.lines = {}, {}, {}\n",
    "            \n",
    "        self.lnE_line, = self.ax2.plot([], [], 'b-', markersize=3, lw=0.5, label='log10(E)')\n",
    "        time_template = ' t={:.0f}\\n E={:.2f}\\n T={:.5f}\\n theta={:.0f}\\n'\n",
    "        self.time_text = self.ax1.text(0.05, 0.7, '', transform=self.ax1.transAxes)\n",
    "        \n",
    "    def update(self):\n",
    "        \n",
    "        for point_name in self.linkage.points.keys():\n",
    "            if point_name not in self.points.keys():\n",
    "                point = self.ax1.scatter([], [], s=20, c='limegreen',\n",
    "                    zorder=2, label=point_name)\n",
    "                self.points[point_name] = point\n",
    "            point = self.linkage.points[point_name]\n",
    "            self.points[point_name].set_offsets(\n",
    "                [[point.r[0],point.r[1]]])\n",
    "                \n",
    "        for anchor_name in self.linkage.anchors.keys():\n",
    "            if anchor_name not in self.anchors.keys():\n",
    "                anchor = self.ax1.scatter([], [], s=20, c='orange',\n",
    "                    zorder=1, label=anchor_name)\n",
    "                self.anchors[anchor_name] = anchor\n",
    "            anchor = self.linkage.anchors[anchor_name]\n",
    "            self.anchors[anchor_name].set_offsets(\n",
    "                [[anchor.r[0],anchor.r[1]]])\n",
    "                \n",
    "        for line_name in self.linkage.lines.keys():\n",
    "            ls, lw = ':', 1\n",
    "            if self.linkage.lines[line_name].is_constrained():\n",
    "                ls, lw = '-', 1\n",
    "            if line_name not in self.lines.keys():\n",
    "                line, = self.ax1.plot([], [], linestyle=ls, markersize=3, lw=lw, c='black',\n",
    "                    zorder=0, label=line_name)\n",
    "                self.lines[line_name] = line\n",
    "            line = self.linkage.lines[line_name]\n",
    "            self.lines[line_name].set_data(\n",
    "                [line.p1.r[0],line.p2.r[0]],\n",
    "                [line.p1.r[1],line.p2.r[1]])\n",
    "            self.lines[line_name].set_linestyle(ls)\n",
    "            self.lines[line_name].set_linewidth(lw)\n",
    "            \n",
    "        self.lnE_line.set_xdata(torch.arange(0,len(self.E_list)))\n",
    "        self.lnE_line.set_ydata(torch.log10(torch.tensor(self.E_list)))\n",
    "        self.ax2.set_xlabel('Epoch')\n",
    "        self.ax2.set_xlim(0,len(self.E_list))\n",
    "        self.ax2.set_ylim(-10,10)\n",
    "        self.time_text.set_text('')\n",
    "        self.fig.canvas.draw()"
   ]
  },
  {
   "cell_type": "code",
   "execution_count": null,
   "metadata": {},
   "outputs": [],
   "source": [
    "# Turn crank while simultaneously increasing crank length\n",
    "# Implement Newton solver?"
   ]
  },
  {
   "cell_type": "code",
   "execution_count": null,
   "metadata": {},
   "outputs": [],
   "source": [
    "linkage = Linkage()"
   ]
  },
  {
   "cell_type": "code",
   "execution_count": null,
   "metadata": {},
   "outputs": [],
   "source": [
    "A = linkage.add_point_at([0,2,0])"
   ]
  },
  {
   "cell_type": "code",
   "execution_count": null,
   "metadata": {},
   "outputs": [],
   "source": [
    "B = linkage.add_point_at([-2,1,0])"
   ]
  },
  {
   "cell_type": "code",
   "execution_count": null,
   "metadata": {},
   "outputs": [],
   "source": [
    "C = linkage.add_point_at([2,1,0])"
   ]
  },
  {
   "cell_type": "code",
   "execution_count": null,
   "metadata": {},
   "outputs": [],
   "source": [
    "Z = linkage.add_anchor_at([0,-1,0])"
   ]
  },
  {
   "cell_type": "code",
   "execution_count": null,
   "metadata": {},
   "outputs": [],
   "source": [
    "bc = linkage.add_line(B,C)"
   ]
  },
  {
   "cell_type": "code",
   "execution_count": null,
   "metadata": {},
   "outputs": [],
   "source": [
    "az = linkage.add_line(A,Z)"
   ]
  },
  {
   "cell_type": "code",
   "execution_count": null,
   "metadata": {},
   "outputs": [],
   "source": [
    "A.constrain_on(bc) ######### fix update()"
   ]
  },
  {
   "cell_type": "code",
   "execution_count": null,
   "metadata": {},
   "outputs": [],
   "source": [
    "az.constrain_length()"
   ]
  },
  {
   "cell_type": "code",
   "execution_count": null,
   "metadata": {},
   "outputs": [],
   "source": [
    "az.constrain_length(0)"
   ]
  },
  {
   "cell_type": "code",
   "execution_count": null,
   "metadata": {},
   "outputs": [],
   "source": [
    "ab = linkage.add_line(A,B)"
   ]
  },
  {
   "cell_type": "code",
   "execution_count": null,
   "metadata": {},
   "outputs": [],
   "source": [
    "ab.constrain_length(2)"
   ]
  },
  {
   "cell_type": "code",
   "execution_count": null,
   "metadata": {},
   "outputs": [],
   "source": [
    "bc = linkage.add_line(B,C)"
   ]
  },
  {
   "cell_type": "code",
   "execution_count": null,
   "metadata": {},
   "outputs": [],
   "source": [
    "bc.constrain_length(4)"
   ]
  },
  {
   "cell_type": "code",
   "execution_count": null,
   "metadata": {},
   "outputs": [],
   "source": [
    "ab.constrain_length(0.5)"
   ]
  },
  {
   "cell_type": "code",
   "execution_count": null,
   "metadata": {},
   "outputs": [],
   "source": [
    "linkage = Linkage()"
   ]
  },
  {
   "cell_type": "code",
   "execution_count": null,
   "metadata": {},
   "outputs": [],
   "source": [
    "A = linkage.add_point_at([0,0,0])"
   ]
  },
  {
   "cell_type": "code",
   "execution_count": null,
   "metadata": {},
   "outputs": [],
   "source": [
    "B = linkage.add_anchor_at([-2,0,0])"
   ]
  },
  {
   "cell_type": "code",
   "execution_count": null,
   "metadata": {},
   "outputs": [],
   "source": [
    "C = linkage.add_anchor_at([2,0,0])"
   ]
  },
  {
   "cell_type": "code",
   "execution_count": null,
   "metadata": {},
   "outputs": [],
   "source": [
    "D = linkage.add_point_at([0,1,0])"
   ]
  },
  {
   "cell_type": "code",
   "execution_count": null,
   "metadata": {},
   "outputs": [],
   "source": [
    "E = linkage.add_point_at([-0.25,0,0])"
   ]
  },
  {
   "cell_type": "code",
   "execution_count": null,
   "metadata": {},
   "outputs": [],
   "source": [
    "bc = linkage.add_line(B,C) #bc.constrain_length(4)"
   ]
  },
  {
   "cell_type": "code",
   "execution_count": null,
   "metadata": {},
   "outputs": [],
   "source": [
    "ba = linkage.add_line(B,A)"
   ]
  },
  {
   "cell_type": "code",
   "execution_count": null,
   "metadata": {},
   "outputs": [],
   "source": [
    "ba.constrain_length(2)"
   ]
  },
  {
   "cell_type": "code",
   "execution_count": null,
   "metadata": {},
   "outputs": [],
   "source": [
    "A.constrain_on(bc)"
   ]
  },
  {
   "cell_type": "code",
   "execution_count": null,
   "metadata": {},
   "outputs": [],
   "source": [
    "CC = linkage.add_point_at([0,2,0])"
   ]
  },
  {
   "cell_type": "code",
   "execution_count": null,
   "metadata": {},
   "outputs": [],
   "source": [
    "acc = linkage.add_line(A,CC)"
   ]
  },
  {
   "cell_type": "code",
   "execution_count": null,
   "metadata": {},
   "outputs": [],
   "source": [
    "acc.constrain_length(2)"
   ]
  },
  {
   "cell_type": "code",
   "execution_count": null,
   "metadata": {},
   "outputs": [],
   "source": [
    "D.constrain_on(acc)"
   ]
  },
  {
   "cell_type": "code",
   "execution_count": null,
   "metadata": {},
   "outputs": [],
   "source": [
    "ad = linkage.add_line(A,D)"
   ]
  },
  {
   "cell_type": "code",
   "execution_count": null,
   "metadata": {},
   "outputs": [],
   "source": [
    "ad.constrain_length(1)"
   ]
  },
  {
   "cell_type": "code",
   "execution_count": null,
   "metadata": {},
   "outputs": [],
   "source": [
    "ed = linkage.add_line(E,D)"
   ]
  },
  {
   "cell_type": "code",
   "execution_count": null,
   "metadata": {},
   "outputs": [],
   "source": [
    "ed.constrain_length(1)"
   ]
  },
  {
   "cell_type": "code",
   "execution_count": null,
   "metadata": {},
   "outputs": [],
   "source": [
    "E.constrain_on(bc)"
   ]
  },
  {
   "cell_type": "code",
   "execution_count": null,
   "metadata": {},
   "outputs": [],
   "source": [
    "be = linkage.add_line(B,E)"
   ]
  },
  {
   "cell_type": "code",
   "execution_count": null,
   "metadata": {},
   "outputs": [],
   "source": [
    "be.constrain_length(3.999)"
   ]
  },
  {
   "cell_type": "code",
   "execution_count": null,
   "metadata": {},
   "outputs": [],
   "source": [
    "BB = linkage.add_point_at([-2,-1,0])"
   ]
  },
  {
   "cell_type": "code",
   "execution_count": null,
   "metadata": {},
   "outputs": [],
   "source": [
    "DD = linkage.add_point_at([0,1,0])"
   ]
  },
  {
   "cell_type": "code",
   "execution_count": null,
   "metadata": {},
   "outputs": [],
   "source": [
    "EE = linkage.add_point_at([-1,-0.5,0])"
   ]
  },
  {
   "cell_type": "code",
   "execution_count": null,
   "metadata": {},
   "outputs": [],
   "source": [
    "add = linkage.add_line(A,DD)"
   ]
  },
  {
   "cell_type": "code",
   "execution_count": null,
   "metadata": {},
   "outputs": [],
   "source": [
    "add.constrain_length(1)"
   ]
  },
  {
   "cell_type": "code",
   "execution_count": null,
   "metadata": {},
   "outputs": [],
   "source": [
    "bbcc = linkage.add_line(BB,CC)"
   ]
  },
  {
   "cell_type": "code",
   "execution_count": null,
   "metadata": {},
   "outputs": [],
   "source": [
    "EE.constrain_on(bbcc)"
   ]
  },
  {
   "cell_type": "code",
   "execution_count": null,
   "metadata": {},
   "outputs": [],
   "source": [
    "bbee = linkage.add_line(BB,EE)"
   ]
  },
  {
   "cell_type": "code",
   "execution_count": null,
   "metadata": {},
   "outputs": [],
   "source": [
    "bbee.constrain_length(1.25)"
   ]
  },
  {
   "cell_type": "code",
   "execution_count": null,
   "metadata": {},
   "outputs": [],
   "source": [
    "eedd = linkage.add_line(EE,DD)"
   ]
  },
  {
   "cell_type": "code",
   "execution_count": null,
   "metadata": {},
   "outputs": [],
   "source": [
    "eedd.constrain_length(1)"
   ]
  },
  {
   "cell_type": "code",
   "execution_count": null,
   "metadata": {},
   "outputs": [],
   "source": [
    "bbcc.constrain_length(4)"
   ]
  },
  {
   "cell_type": "code",
   "execution_count": null,
   "metadata": {},
   "outputs": [],
   "source": [
    "be.constrain_length(3.2)"
   ]
  },
  {
   "cell_type": "code",
   "execution_count": null,
   "metadata": {},
   "outputs": [],
   "source": [
    "#A.constrain_on(bbcc)"
   ]
  },
  {
   "cell_type": "code",
   "execution_count": null,
   "metadata": {},
   "outputs": [],
   "source": [
    "zz"
   ]
  },
  {
   "cell_type": "code",
   "execution_count": null,
   "metadata": {},
   "outputs": [],
   "source": []
  },
  {
   "cell_type": "code",
   "execution_count": null,
   "metadata": {},
   "outputs": [],
   "source": [
    "AA.constrain_on(acc)"
   ]
  },
  {
   "cell_type": "code",
   "execution_count": null,
   "metadata": {},
   "outputs": [],
   "source": []
  },
  {
   "cell_type": "code",
   "execution_count": null,
   "metadata": {},
   "outputs": [],
   "source": []
  },
  {
   "cell_type": "code",
   "execution_count": null,
   "metadata": {},
   "outputs": [],
   "source": [
    "aadd = linkage.add_line(AA,DD)"
   ]
  },
  {
   "cell_type": "code",
   "execution_count": null,
   "metadata": {},
   "outputs": [],
   "source": [
    "aadd.constrain_length(1)"
   ]
  },
  {
   "cell_type": "code",
   "execution_count": null,
   "metadata": {},
   "outputs": [],
   "source": [
    "EE.constrain_on(acc)"
   ]
  },
  {
   "cell_type": "code",
   "execution_count": null,
   "metadata": {},
   "outputs": [],
   "source": [
    "eedd = linkage.add_line(EE,DD)"
   ]
  },
  {
   "cell_type": "code",
   "execution_count": null,
   "metadata": {},
   "outputs": [],
   "source": [
    "eedd.constrain_length(1)"
   ]
  },
  {
   "cell_type": "code",
   "execution_count": null,
   "metadata": {},
   "outputs": [],
   "source": [
    "dee = linkage.add_line(D,EE)"
   ]
  },
  {
   "cell_type": "code",
   "execution_count": null,
   "metadata": {},
   "outputs": [],
   "source": [
    "dee.constrain_length(0.5)"
   ]
  },
  {
   "cell_type": "code",
   "execution_count": null,
   "metadata": {},
   "outputs": [],
   "source": [
    "be.constrain_length(1)"
   ]
  },
  {
   "cell_type": "code",
   "execution_count": null,
   "metadata": {},
   "outputs": [],
   "source": []
  },
  {
   "cell_type": "code",
   "execution_count": null,
   "metadata": {},
   "outputs": [],
   "source": [
    "be.constrain_length(3.99)"
   ]
  },
  {
   "cell_type": "code",
   "execution_count": null,
   "metadata": {},
   "outputs": [],
   "source": [
    "dee.constrain_length(3.9)"
   ]
  },
  {
   "cell_type": "code",
   "execution_count": null,
   "metadata": {},
   "outputs": [],
   "source": []
  },
  {
   "cell_type": "code",
   "execution_count": null,
   "metadata": {},
   "outputs": [],
   "source": []
  },
  {
   "cell_type": "code",
   "execution_count": null,
   "metadata": {},
   "outputs": [],
   "source": [
    "zz"
   ]
  },
  {
   "cell_type": "code",
   "execution_count": null,
   "metadata": {},
   "outputs": [],
   "source": []
  },
  {
   "cell_type": "code",
   "execution_count": null,
   "metadata": {},
   "outputs": [],
   "source": [
    "G = linkage.add_anchor_at([0,4,0])"
   ]
  },
  {
   "cell_type": "code",
   "execution_count": null,
   "metadata": {},
   "outputs": [],
   "source": [
    "fg = linkage.add_line(F,G)"
   ]
  },
  {
   "cell_type": "code",
   "execution_count": null,
   "metadata": {},
   "outputs": [],
   "source": [
    "fg.constrain_length(8)"
   ]
  },
  {
   "cell_type": "code",
   "execution_count": null,
   "metadata": {},
   "outputs": [],
   "source": [
    "zz"
   ]
  },
  {
   "cell_type": "code",
   "execution_count": null,
   "metadata": {},
   "outputs": [],
   "source": [
    "A.constrain_on(fg)"
   ]
  },
  {
   "cell_type": "code",
   "execution_count": null,
   "metadata": {},
   "outputs": [],
   "source": [
    "ga = linkage.add_line(G,A)"
   ]
  },
  {
   "cell_type": "code",
   "execution_count": null,
   "metadata": {},
   "outputs": [],
   "source": [
    "ga.constrain_length(4)"
   ]
  },
  {
   "cell_type": "code",
   "execution_count": null,
   "metadata": {},
   "outputs": [],
   "source": [
    "H = linkage.add_point_at([-3,-1,0])"
   ]
  },
  {
   "cell_type": "code",
   "execution_count": null,
   "metadata": {},
   "outputs": [],
   "source": [
    "ha = linkage.add_line(H,A)"
   ]
  },
  {
   "cell_type": "code",
   "execution_count": null,
   "metadata": {},
   "outputs": [],
   "source": [
    "gh = linkage.add_line(G,H)"
   ]
  },
  {
   "cell_type": "code",
   "execution_count": null,
   "metadata": {},
   "outputs": [],
   "source": [
    "gh.constrain_length(4.5)"
   ]
  },
  {
   "cell_type": "code",
   "execution_count": null,
   "metadata": {},
   "outputs": [],
   "source": [
    "H.constrain_on(fg)"
   ]
  },
  {
   "cell_type": "code",
   "execution_count": null,
   "metadata": {},
   "outputs": [],
   "source": [
    "zz"
   ]
  },
  {
   "cell_type": "code",
   "execution_count": null,
   "metadata": {},
   "outputs": [],
   "source": [
    "ha.constrain_length(2) ##########"
   ]
  },
  {
   "cell_type": "code",
   "execution_count": null,
   "metadata": {},
   "outputs": [],
   "source": [
    "gh.constrain_length(5.5)"
   ]
  },
  {
   "cell_type": "code",
   "execution_count": null,
   "metadata": {},
   "outputs": [],
   "source": [
    "be.constrain_length(0.5)"
   ]
  },
  {
   "cell_type": "code",
   "execution_count": null,
   "metadata": {},
   "outputs": [],
   "source": [
    "gh.constrain_length(7)"
   ]
  },
  {
   "cell_type": "code",
   "execution_count": null,
   "metadata": {},
   "outputs": [],
   "source": []
  },
  {
   "cell_type": "code",
   "execution_count": null,
   "metadata": {},
   "outputs": [],
   "source": [
    "be.constrain_length(3)"
   ]
  },
  {
   "cell_type": "code",
   "execution_count": null,
   "metadata": {},
   "outputs": [],
   "source": [
    "gh.constrain_length(3)"
   ]
  },
  {
   "cell_type": "code",
   "execution_count": null,
   "metadata": {},
   "outputs": [],
   "source": []
  },
  {
   "cell_type": "code",
   "execution_count": null,
   "metadata": {},
   "outputs": [],
   "source": [
    "zz"
   ]
  },
  {
   "cell_type": "code",
   "execution_count": null,
   "metadata": {},
   "outputs": [],
   "source": [
    "Z = linkage.add_anchor_at([0,0,0])"
   ]
  },
  {
   "cell_type": "code",
   "execution_count": null,
   "metadata": {},
   "outputs": [],
   "source": [
    "az = linkage.add_line(A,Z)"
   ]
  },
  {
   "cell_type": "code",
   "execution_count": null,
   "metadata": {},
   "outputs": [],
   "source": [
    "az.constrain_length(0)"
   ]
  },
  {
   "cell_type": "code",
   "execution_count": null,
   "metadata": {},
   "outputs": [],
   "source": []
  },
  {
   "cell_type": "code",
   "execution_count": null,
   "metadata": {},
   "outputs": [],
   "source": [
    "az.constrain_length(0)"
   ]
  },
  {
   "cell_type": "code",
   "execution_count": null,
   "metadata": {},
   "outputs": [],
   "source": []
  },
  {
   "cell_type": "code",
   "execution_count": null,
   "metadata": {},
   "outputs": [],
   "source": []
  },
  {
   "cell_type": "code",
   "execution_count": null,
   "metadata": {},
   "outputs": [],
   "source": []
  },
  {
   "cell_type": "code",
   "execution_count": null,
   "metadata": {},
   "outputs": [],
   "source": []
  },
  {
   "cell_type": "code",
   "execution_count": null,
   "metadata": {},
   "outputs": [],
   "source": []
  },
  {
   "cell_type": "code",
   "execution_count": null,
   "metadata": {},
   "outputs": [],
   "source": []
  },
  {
   "cell_type": "code",
   "execution_count": null,
   "metadata": {},
   "outputs": [],
   "source": [
    "#"
   ]
  },
  {
   "cell_type": "code",
   "execution_count": null,
   "metadata": {},
   "outputs": [],
   "source": []
  },
  {
   "cell_type": "code",
   "execution_count": null,
   "metadata": {},
   "outputs": [],
   "source": [
    "zz"
   ]
  },
  {
   "cell_type": "code",
   "execution_count": null,
   "metadata": {},
   "outputs": [],
   "source": []
  },
  {
   "cell_type": "code",
   "execution_count": null,
   "metadata": {},
   "outputs": [],
   "source": []
  },
  {
   "cell_type": "code",
   "execution_count": null,
   "metadata": {},
   "outputs": [],
   "source": []
  },
  {
   "cell_type": "code",
   "execution_count": null,
   "metadata": {},
   "outputs": [],
   "source": [
    "H = linkage.add_point_at([2,-0.5,0])"
   ]
  },
  {
   "cell_type": "code",
   "execution_count": null,
   "metadata": {},
   "outputs": [],
   "source": [
    "ch = linkage.add_line(C,H)"
   ]
  },
  {
   "cell_type": "code",
   "execution_count": null,
   "metadata": {},
   "outputs": [],
   "source": [
    "H.constrain_on(gf)"
   ]
  },
  {
   "cell_type": "code",
   "execution_count": null,
   "metadata": {},
   "outputs": [],
   "source": [
    "gf.constrain_length()"
   ]
  },
  {
   "cell_type": "code",
   "execution_count": null,
   "metadata": {},
   "outputs": [],
   "source": [
    "#ch.constrain_length(2)"
   ]
  },
  {
   "cell_type": "code",
   "execution_count": null,
   "metadata": {},
   "outputs": [],
   "source": [
    "zz"
   ]
  },
  {
   "cell_type": "code",
   "execution_count": null,
   "metadata": {},
   "outputs": [],
   "source": [
    "linkage = Linkage()"
   ]
  },
  {
   "cell_type": "code",
   "execution_count": null,
   "metadata": {},
   "outputs": [],
   "source": [
    "A = linkage.add_anchor_at([0,0,0])"
   ]
  },
  {
   "cell_type": "code",
   "execution_count": null,
   "metadata": {},
   "outputs": [],
   "source": [
    "B = linkage.add_anchor_at([0,1,0])"
   ]
  },
  {
   "cell_type": "code",
   "execution_count": null,
   "metadata": {},
   "outputs": [],
   "source": [
    "ux = linkage.add_line(linkage.anchors['A'],linkage.anchors['B']).r"
   ]
  },
  {
   "cell_type": "code",
   "execution_count": null,
   "metadata": {},
   "outputs": [],
   "source": [
    "uz = torch.tensor([0,0,1]).to(torch.float)"
   ]
  },
  {
   "cell_type": "code",
   "execution_count": null,
   "metadata": {},
   "outputs": [],
   "source": [
    "theta = 135"
   ]
  },
  {
   "cell_type": "code",
   "execution_count": null,
   "metadata": {},
   "outputs": [],
   "source": [
    "uy = torch.cross(uz, ux)"
   ]
  },
  {
   "cell_type": "code",
   "execution_count": null,
   "metadata": {},
   "outputs": [],
   "source": [
    "r = np.cos(theta*np.pi/180)*ux + np.sin(theta*np.pi/180)*uy"
   ]
  },
  {
   "cell_type": "code",
   "execution_count": null,
   "metadata": {},
   "outputs": [],
   "source": [
    "C = linkage.add_point_at(r.tolist())"
   ]
  },
  {
   "cell_type": "code",
   "execution_count": null,
   "metadata": {},
   "outputs": [],
   "source": [
    "linkage.add_line(linkage.anchors['A'],C)"
   ]
  },
  {
   "cell_type": "code",
   "execution_count": null,
   "metadata": {},
   "outputs": [],
   "source": [
    "zz"
   ]
  },
  {
   "cell_type": "code",
   "execution_count": null,
   "metadata": {},
   "outputs": [],
   "source": [
    "linkage = Linkage()"
   ]
  },
  {
   "cell_type": "code",
   "execution_count": null,
   "metadata": {},
   "outputs": [],
   "source": [
    "A = linkage.add_anchor_at([0,0,0])"
   ]
  },
  {
   "cell_type": "code",
   "execution_count": null,
   "metadata": {},
   "outputs": [],
   "source": [
    "B = linkage.add_anchor_at([1,0,0])"
   ]
  },
  {
   "cell_type": "code",
   "execution_count": null,
   "metadata": {},
   "outputs": [],
   "source": [
    "a = linkage.add_line(linkage.anchors['A'],linkage.anchors['B'])"
   ]
  },
  {
   "cell_type": "code",
   "execution_count": null,
   "metadata": {},
   "outputs": [],
   "source": [
    "num_segments = 5"
   ]
  },
  {
   "cell_type": "code",
   "execution_count": null,
   "metadata": {},
   "outputs": [],
   "source": [
    "arc_points = []\n",
    "arc_points.append(B)"
   ]
  },
  {
   "cell_type": "code",
   "execution_count": null,
   "metadata": {},
   "outputs": [],
   "source": [
    "for i in range(num_segments):\n",
    "    #r = arc_points[-1].r + torch.tensor([-0.2,0.2,0.0])\n",
    "    C = linkage.add_point_at([0,1,0]) #r.tolist())\n",
    "    arc_points.append(C)\n",
    "    b = linkage.add_line(A,C)\n",
    "    b.constrain_length(1)\n",
    "    c = linkage.add_line(C,arc_points[-2])\n",
    "    L = 2*np.sin(0.5*(np.pi/2)/num_segments)\n",
    "    c.constrain_length(L)"
   ]
  },
  {
   "cell_type": "code",
   "execution_count": null,
   "metadata": {},
   "outputs": [],
   "source": [
    "c.constrain_length(1)"
   ]
  },
  {
   "cell_type": "code",
   "execution_count": null,
   "metadata": {},
   "outputs": [],
   "source": [
    "zz"
   ]
  },
  {
   "cell_type": "code",
   "execution_count": null,
   "metadata": {},
   "outputs": [],
   "source": [
    "linkage = Linkage()"
   ]
  },
  {
   "cell_type": "code",
   "execution_count": null,
   "metadata": {},
   "outputs": [],
   "source": [
    "linkage.add_anchor_at([-1,1,0])"
   ]
  },
  {
   "cell_type": "code",
   "execution_count": null,
   "metadata": {},
   "outputs": [],
   "source": [
    "linkage.add_point_at([0,1.25,0])"
   ]
  },
  {
   "cell_type": "code",
   "execution_count": null,
   "metadata": {},
   "outputs": [],
   "source": [
    "linkage.add_anchor_at([3,1,0])"
   ]
  },
  {
   "cell_type": "code",
   "execution_count": null,
   "metadata": {},
   "outputs": [],
   "source": [
    "linkage.add_line(linkage.anchors['A'],linkage.points['B'])"
   ]
  },
  {
   "cell_type": "code",
   "execution_count": null,
   "metadata": {},
   "outputs": [],
   "source": [
    "linkage.add_line(linkage.anchors['C'],linkage.anchors['A']) ############"
   ]
  },
  {
   "cell_type": "code",
   "execution_count": null,
   "metadata": {},
   "outputs": [],
   "source": [
    "linkage.lines['a'].constrain_length(1)"
   ]
  },
  {
   "cell_type": "code",
   "execution_count": null,
   "metadata": {},
   "outputs": [],
   "source": [
    "linkage.add_angle(linkage.lines['b'], linkage.lines['a'])"
   ]
  },
  {
   "cell_type": "code",
   "execution_count": null,
   "metadata": {},
   "outputs": [],
   "source": [
    "linkage.angles['b_a'].constrain_angle(45, ccw=True)"
   ]
  },
  {
   "cell_type": "code",
   "execution_count": null,
   "metadata": {},
   "outputs": [],
   "source": [
    "linkage.add_point_at([3,4,0])"
   ]
  },
  {
   "cell_type": "code",
   "execution_count": null,
   "metadata": {},
   "outputs": [],
   "source": [
    "linkage.add_line(linkage.points['B'],linkage.points['D'])"
   ]
  },
  {
   "cell_type": "code",
   "execution_count": null,
   "metadata": {},
   "outputs": [],
   "source": [
    "linkage.add_line(linkage.points['D'],linkage.anchors['C'])"
   ]
  },
  {
   "cell_type": "code",
   "execution_count": null,
   "metadata": {},
   "outputs": [],
   "source": [
    "linkage.lines['c'].constrain_length(5)"
   ]
  },
  {
   "cell_type": "code",
   "execution_count": null,
   "metadata": {},
   "outputs": [],
   "source": [
    "linkage.lines['d'].constrain_length(4)"
   ]
  },
  {
   "cell_type": "code",
   "execution_count": null,
   "metadata": {},
   "outputs": [],
   "source": [
    "for theta in np.linspace(0,720,50):\n",
    "    linkage.angles['b_a'].constrain_angle(theta, ccw=True) # 'd_a'"
   ]
  },
  {
   "cell_type": "code",
   "execution_count": null,
   "metadata": {},
   "outputs": [],
   "source": []
  }
 ],
 "metadata": {
  "kernelspec": {
   "display_name": "Python 3",
   "language": "python",
   "name": "python3"
  },
  "language_info": {
   "codemirror_mode": {
    "name": "ipython",
    "version": 3
   },
   "file_extension": ".py",
   "mimetype": "text/x-python",
   "name": "python",
   "nbconvert_exporter": "python",
   "pygments_lexer": "ipython3",
   "version": "3.7.8"
  }
 },
 "nbformat": 4,
 "nbformat_minor": 4
}
