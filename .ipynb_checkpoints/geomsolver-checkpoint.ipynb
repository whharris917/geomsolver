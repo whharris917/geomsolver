{
 "cells": [
  {
   "cell_type": "code",
   "execution_count": 1,
   "metadata": {},
   "outputs": [],
   "source": [
    "%matplotlib notebook"
   ]
  },
  {
   "cell_type": "code",
   "execution_count": 2,
   "metadata": {},
   "outputs": [],
   "source": [
    "import numpy as np\n",
    "import pandas as pd\n",
    "import torch, IPython, itertools, string\n",
    "import random, time, warnings\n",
    "import matplotlib.pyplot as plt\n",
    "from matplotlib import animation"
   ]
  },
  {
   "cell_type": "code",
   "execution_count": 3,
   "metadata": {},
   "outputs": [],
   "source": [
    "warnings.simplefilter('ignore')"
   ]
  },
  {
   "cell_type": "code",
   "execution_count": 4,
   "metadata": {},
   "outputs": [],
   "source": [
    "class Point(torch.nn.Module):\n",
    "    def __init__(self, linkage, name):\n",
    "        super(Point, self).__init__()\n",
    "        self.linkage = linkage\n",
    "        self.name = name\n",
    "        self.parent = None\n",
    "        self._r = None\n",
    "        \n",
    "    def __repr__(self):\n",
    "        raise Exception('Override this method.')\n",
    "    \n",
    "    @property\n",
    "    def r(self):\n",
    "        raise Exception('Override this property.')\n",
    "\n",
    "    def root(self):\n",
    "        raise Exception('Override this method.')\n",
    "    \n",
    "    def E(self):\n",
    "        raise Exception('Override this method.')"
   ]
  },
  {
   "cell_type": "code",
   "execution_count": 5,
   "metadata": {},
   "outputs": [],
   "source": [
    "class AtPoint(Point):\n",
    "    def __init__(self, linkage, name, at):\n",
    "        super(AtPoint, self).__init__(linkage, name)\n",
    "        self._r = torch.nn.Parameter(torch.tensor(at).to(torch.float))\n",
    "    \n",
    "    def __repr__(self):\n",
    "        label = self.__class__.__name__[:-5]\n",
    "        return('[{}]Point_{}(at={})'.format(label, self.name, str(self.r.tolist())))\n",
    "    \n",
    "    @property\n",
    "    def r(self):\n",
    "        return(self._r)\n",
    "\n",
    "    def root(self):\n",
    "        return(self)\n",
    "    \n",
    "    def E(self):\n",
    "        return(0)"
   ]
  },
  {
   "cell_type": "code",
   "execution_count": 6,
   "metadata": {},
   "outputs": [],
   "source": [
    "class AnchorPoint(Point):\n",
    "    def __init__(self, linkage, name, at):\n",
    "        super(AnchorPoint, self).__init__(linkage, name)\n",
    "        self._r = torch.tensor(at, requires_grad=False)\n",
    "        \n",
    "    def __repr__(self):\n",
    "        label = self.__class__.__name__[:-5]\n",
    "        return('[{}]Point_{}(at={})'.format(label, self.name, str(self.r.tolist())))\n",
    "        \n",
    "    @property\n",
    "    def r(self):\n",
    "        return(self._r)\n",
    "        \n",
    "    def root(self):\n",
    "        return(self)\n",
    "    \n",
    "    def E(self):\n",
    "        return(0)"
   ]
  },
  {
   "cell_type": "code",
   "execution_count": 7,
   "metadata": {},
   "outputs": [],
   "source": [
    "class OnPointPoint(Point):\n",
    "    def __init__(self, linkage, name, parent):\n",
    "        super(OnPointPoint, self).__init__(linkage, name)\n",
    "        self.parent = parent\n",
    "        \n",
    "    def __repr__(self):\n",
    "        label = self.__class__.__name__[:-5]\n",
    "        return('[{}]Point_{}(on={})'.format(label, self.name, str(self.parent)))\n",
    "        \n",
    "    @property\n",
    "    def r(self):\n",
    "        return(self.parent.r)\n",
    "    \n",
    "    def root(self):\n",
    "        return(self.parent.root())\n",
    "    \n",
    "    def E(self):\n",
    "        return(0)"
   ]
  },
  {
   "cell_type": "code",
   "execution_count": 8,
   "metadata": {},
   "outputs": [],
   "source": [
    "class ToPointPoint(Point):\n",
    "    def __init__(self, linkage, name, at, parent):\n",
    "        super(ToPointPoint, self).__init__(linkage, name)\n",
    "        self._r = torch.nn.Parameter(torch.tensor(at).to(torch.float))\n",
    "        self.parent = parent\n",
    "        \n",
    "    def __repr__(self):\n",
    "        label = self.__class__.__name__[:-5]\n",
    "        return('[{}]Point_{}(to={})'.format(label, self.name, str(self.parent)))\n",
    "        \n",
    "    @property\n",
    "    def r(self):\n",
    "        return(self._r)\n",
    "    \n",
    "    def root(self):\n",
    "        return(self)\n",
    "    \n",
    "    def E(self):\n",
    "        return((self.r-self.parent.r).pow(2).sum())"
   ]
  },
  {
   "cell_type": "code",
   "execution_count": 9,
   "metadata": {},
   "outputs": [],
   "source": [
    "class CalculatedPoint(Point):\n",
    "    def __init__(self, linkage, name, parent):\n",
    "        super(CalculatedPoint, self).__init__(linkage, name)\n",
    "        self.parent = parent\n",
    "        \n",
    "    def __repr__(self):\n",
    "        label = self.__class__.__name__[:-5]\n",
    "        return('[{}]Point_{}(from={})'.format(label, self.name, str(self.parent.p1)))\n",
    "        \n",
    "    @property\n",
    "    def r(self):\n",
    "        theta = self.parent.theta * np.pi/180\n",
    "        phi = self.parent.phi * np.pi/180\n",
    "        ux = torch.sin(phi)*torch.cos(theta)\n",
    "        uy = torch.sin(phi)*torch.sin(theta)\n",
    "        uz = torch.cos(phi)\n",
    "        dr = self.parent.L * torch.cat([ux, uy, uz])\n",
    "        r = self.parent.p1.r + dr\n",
    "        return(r)\n",
    "\n",
    "    def root(self):\n",
    "        return(self)\n",
    "    \n",
    "    def E(self):\n",
    "        return(0)"
   ]
  },
  {
   "cell_type": "code",
   "execution_count": 10,
   "metadata": {},
   "outputs": [],
   "source": [
    "class Line(torch.nn.Module):\n",
    "    def __init__(self, linkage, name):\n",
    "        super(Line, self).__init__()\n",
    "        self.linkage = linkage\n",
    "        self.name = name\n",
    "        self.parent = None\n",
    "        self.p1 = None\n",
    "        self.p2 = None\n",
    "        \n",
    "    def __repr__(self):\n",
    "        raise Exception('Override this method.')\n",
    "        \n",
    "    @property\n",
    "    def r(self):\n",
    "        return(self.p2.r - self.p1.r)"
   ]
  },
  {
   "cell_type": "code",
   "execution_count": 11,
   "metadata": {},
   "outputs": [],
   "source": [
    "class FromPointLine(Line):\n",
    "    def __init__(self, linkage, name, p, L, theta, phi=None, ux=None, uz=None):\n",
    "        super(FromPointLine, self).__init__(linkage, name)\n",
    "        self.L = L\n",
    "        self.theta = torch.nn.Parameter(torch.tensor([theta]).to(torch.float))\n",
    "        phi = 90 if phi is None else phi\n",
    "        self.phi = torch.nn.Parameter(torch.tensor([phi]).to(torch.float))\n",
    "        ux = [1,0,0] if ux is None else ux\n",
    "        self.ux = torch.tensor(ux, requires_grad=False).to(torch.float)        \n",
    "        uz = [0,0,1] if uz is None else uz\n",
    "        self.uz = torch.tensor(uz, requires_grad=False).to(torch.float)\n",
    "        self.uy = torch.cross(self.uz, self.ux)\n",
    "        self.p1 = OnPointPoint(self.linkage, '{}.{}'.format(self.name, '1'), parent=p)\n",
    "        self.p2 = CalculatedPoint(self.linkage, '{}.{}'.format(self.name, '2'), parent=self)\n",
    "        \n",
    "    def __repr__(self):\n",
    "        label = self.__class__.__name__[:-4]\n",
    "        return('[{}]Line_{}(p1={}, p2={})'.format(label, self.name, str(self.p1), str(self.p2)))\n",
    "    \n",
    "    def L(self):\n",
    "        L = (self.p2.r-self.p1.r).pow(2).sum().pow(0.5)\n",
    "        return(L)\n",
    "\n",
    "    def root(self):\n",
    "        return(self)\n",
    "    \n",
    "    def E(self):\n",
    "        return(0)"
   ]
  },
  {
   "cell_type": "code",
   "execution_count": 12,
   "metadata": {},
   "outputs": [],
   "source": [
    "'''\n",
    "class FromPointLine(torch.nn.Module):\n",
    "    def __init__(self, linkage, name, p1, p2):\n",
    "        super(Line, self).__init__()\n",
    "        self.linkage = linkage\n",
    "        self.name = name\n",
    "        self.parent = None\n",
    "        if type(p1).__bases__[0].__name__ is 'Point':        \n",
    "            self.p1 = OnPointPoint(self.linkage, '{}.{}'.format(self.name, '1'), parent=p1)\n",
    "        else:\n",
    "            self.p1 = AtPoint(self.linkage, '{}.{}'.format(self.name, '1'), at=p1)\n",
    "        if type(p2).__bases__[0].__name__ is 'Point':        \n",
    "            self.p2 = OnPointPoint(self.linkage, '{}.{}'.format(self.name, '2'), parent=p2)\n",
    "        else:\n",
    "            self.p2 = AtPoint(self.linkage, '{}.{}'.format(self.name, '2'), at=p2)\n",
    "        \n",
    "    def __repr__(self):\n",
    "        return('Line_{}(p1={}, p2={})'.format(self.name, str(self.p1), str(self.p2)))\n",
    "    \n",
    "    @property\n",
    "    def r(self):\n",
    "        r = self.p2.r - self.p1.r\n",
    "        return(r)\n",
    "    \n",
    "    def L(self):\n",
    "        L = (self.p2.r-self.p1.r).pow(2).sum().pow(0.5)\n",
    "        return(L)\n",
    "\n",
    "    def root(self):\n",
    "        return(self)\n",
    "    \n",
    "    def E(self):\n",
    "        return(0)\n",
    "''';"
   ]
  },
  {
   "cell_type": "code",
   "execution_count": 13,
   "metadata": {},
   "outputs": [],
   "source": [
    "class OnLinePoint(Point):\n",
    "    pass"
   ]
  },
  {
   "cell_type": "code",
   "execution_count": 14,
   "metadata": {},
   "outputs": [],
   "source": [
    "class OnPointLine(Line):\n",
    "    pass"
   ]
  },
  {
   "cell_type": "code",
   "execution_count": 15,
   "metadata": {},
   "outputs": [],
   "source": [
    "A = AtPoint(None, 'A', at=[0,0,0])"
   ]
  },
  {
   "cell_type": "code",
   "execution_count": 16,
   "metadata": {},
   "outputs": [],
   "source": [
    "B = AnchorPoint(None, 'B', at=[0,0,0])"
   ]
  },
  {
   "cell_type": "code",
   "execution_count": 17,
   "metadata": {},
   "outputs": [],
   "source": [
    "C = OnPointPoint(None, 'C', parent=B)"
   ]
  },
  {
   "cell_type": "code",
   "execution_count": 18,
   "metadata": {},
   "outputs": [],
   "source": [
    "D = ToPointPoint(None, 'D', parent=C, at=[1,1,0])"
   ]
  },
  {
   "cell_type": "code",
   "execution_count": 19,
   "metadata": {},
   "outputs": [
    {
     "data": {
      "text/plain": [
       "[At]Point_A(at=[0.0, 0.0, 0.0])"
      ]
     },
     "execution_count": 19,
     "metadata": {},
     "output_type": "execute_result"
    }
   ],
   "source": [
    "A"
   ]
  },
  {
   "cell_type": "code",
   "execution_count": 20,
   "metadata": {},
   "outputs": [
    {
     "data": {
      "text/plain": [
       "[Anchor]Point_B(at=[0, 0, 0])"
      ]
     },
     "execution_count": 20,
     "metadata": {},
     "output_type": "execute_result"
    }
   ],
   "source": [
    "B"
   ]
  },
  {
   "cell_type": "code",
   "execution_count": 21,
   "metadata": {},
   "outputs": [
    {
     "data": {
      "text/plain": [
       "[OnPoint]Point_C(on=[Anchor]Point_B(at=[0, 0, 0]))"
      ]
     },
     "execution_count": 21,
     "metadata": {},
     "output_type": "execute_result"
    }
   ],
   "source": [
    "C"
   ]
  },
  {
   "cell_type": "code",
   "execution_count": 22,
   "metadata": {},
   "outputs": [
    {
     "data": {
      "text/plain": [
       "[ToPoint]Point_D(to=[OnPoint]Point_C(on=[Anchor]Point_B(at=[0, 0, 0])))"
      ]
     },
     "execution_count": 22,
     "metadata": {},
     "output_type": "execute_result"
    }
   ],
   "source": [
    "D"
   ]
  },
  {
   "cell_type": "code",
   "execution_count": 23,
   "metadata": {},
   "outputs": [],
   "source": [
    "cd = FromPointLine(None, 'cd', p=C, L=2, theta=45, phi=None) "
   ]
  },
  {
   "cell_type": "code",
   "execution_count": 24,
   "metadata": {},
   "outputs": [
    {
     "data": {
      "text/plain": [
       "[FromPoint]Line_cd(p1=[OnPoint]Point_cd.1(on=[OnPoint]Point_C(on=[Anchor]Point_B(at=[0, 0, 0]))), p2=[Calculated]Point_cd.2(from=[OnPoint]Point_cd.1(on=[OnPoint]Point_C(on=[Anchor]Point_B(at=[0, 0, 0])))))"
      ]
     },
     "execution_count": 24,
     "metadata": {},
     "output_type": "execute_result"
    }
   ],
   "source": [
    "cd"
   ]
  },
  {
   "cell_type": "code",
   "execution_count": 25,
   "metadata": {},
   "outputs": [
    {
     "ename": "NameError",
     "evalue": "name 'zz' is not defined",
     "output_type": "error",
     "traceback": [
      "\u001b[0;31m---------------------------------------------------------------------------\u001b[0m",
      "\u001b[0;31mNameError\u001b[0m                                 Traceback (most recent call last)",
      "\u001b[0;32m<ipython-input-25-15546de8c3b0>\u001b[0m in \u001b[0;36m<module>\u001b[0;34m()\u001b[0m\n\u001b[0;32m----> 1\u001b[0;31m \u001b[0mzz\u001b[0m\u001b[0;34m\u001b[0m\u001b[0;34m\u001b[0m\u001b[0m\n\u001b[0m",
      "\u001b[0;31mNameError\u001b[0m: name 'zz' is not defined"
     ]
    }
   ],
   "source": [
    "zz"
   ]
  },
  {
   "cell_type": "code",
   "execution_count": null,
   "metadata": {},
   "outputs": [],
   "source": [
    "class Point(torch.nn.Module):\n",
    "    def __init__(self, linkage, name, at=None, on=None, anchored_at=None):\n",
    "        super(Point, self).__init__()\n",
    "        self.linkage = linkage\n",
    "        self.name = name\n",
    "        if at is not None:\n",
    "            self.mode = 'at'\n",
    "            self.type = 'free_point'\n",
    "            self.parent = None\n",
    "            self._r = torch.nn.Parameter(torch.tensor(at).to(torch.float))\n",
    "        elif on is not None:\n",
    "            self.mode = 'on'\n",
    "            self.type = 'co_point'\n",
    "            self.parent = on\n",
    "            if self.parent.__class__.__name__ is 'Point':\n",
    "                self._r = self.parent.r\n",
    "            elif self.parent.__class__.__name__ is 'Line':\n",
    "                raise Exception()\n",
    "        elif anchored_at is not None:\n",
    "            self.mode = 'anchored_at'\n",
    "            self.type = 'anchored_point'\n",
    "            self.parent = None\n",
    "            self._r = torch.tensor(anchored_at).to(torch.float)\n",
    "        else:\n",
    "            self.mode = None\n",
    "            self.type = 'null_point'\n",
    "            self.parent = None\n",
    "            self._r = None\n",
    "        self.alpha = torch.nn.Parameter(torch.tensor([0.5]).to(torch.float))\n",
    "    \n",
    "    def __repr__(self):\n",
    "        if self.mode is 'at':\n",
    "            return('Point_{}(at={})'.format(self.name, str(self.r.tolist())))\n",
    "        elif self.mode is 'on':\n",
    "            return('Point_{}(on={})'.format(self.name, str(self.parent)))\n",
    "        elif self.mode is 'anchored_at':\n",
    "            return('Point_{}(anchored_at={})'.format(self.name, str(self.r.tolist())))\n",
    "        else:\n",
    "            return('Point_{}(None)'.format(self.name))\n",
    "        \n",
    "    @property\n",
    "    def r(self):\n",
    "        if self.parent is None:\n",
    "            return(self._r)\n",
    "        elif self.parent.__class__.__name__ is 'Point':\n",
    "            return(self.parent.r)\n",
    "        elif self.parent.__class__.__name__ is 'Line':\n",
    "            return(self.alpha*self.parent.p1.r + (1-self.alpha)*self.parent.p2.r)\n",
    "\n",
    "    def root(self):\n",
    "        if self.parent is None:\n",
    "            return(self)\n",
    "        elif self.parent.__class__.__name__ is not 'Point':\n",
    "            return(self)\n",
    "        return(self.parent.root())\n",
    "    \n",
    "    def constrain_on(self, parent):\n",
    "        self.mode = 'on'\n",
    "        self.type = 'co_point'\n",
    "        self.parent = parent\n",
    "        try:\n",
    "            self.linkage.update()\n",
    "        except:\n",
    "            pass"
   ]
  },
  {
   "cell_type": "code",
   "execution_count": null,
   "metadata": {},
   "outputs": [],
   "source": [
    "class Line(torch.nn.Module):\n",
    "    def __init__(self, linkage, name, r1, r2):\n",
    "        super(Line, self).__init__()\n",
    "        self.linkage = linkage\n",
    "        self.name = name\n",
    "        self.target_length = None\n",
    "        if r1.__class__.__name__ is 'Point':\n",
    "            self.p1 = Point(self.linkage, '{}{}'.format(self.name, '1'), on=r1)\n",
    "        else:\n",
    "            self.p1 = Point(self.linkage, '{}{}'.format(self.name, '1'), at=r1)\n",
    "        if r2.__class__.__name__ is 'Point':\n",
    "            self.p2 = Point(self.linkage, '{}{}'.format(self.name, '2'), on=r2)\n",
    "        else:\n",
    "            self.p2 = Point(self.linkage, '{}{}'.format(self.name, '2'), at=r2)\n",
    "        self.mode = None\n",
    "        self.parent = None\n",
    "        \n",
    "    def __repr__(self):\n",
    "        return('Line_{}(p1={}, p2={})'.format(self.name, str(self.p1), str(self.p2)))\n",
    "    \n",
    "    @property\n",
    "    def r(self):\n",
    "        r = self.p2.r - self.p1.r\n",
    "        return(r)\n",
    "    \n",
    "    def length(self):\n",
    "        L = (self.p2.r-self.p1.r).pow(2).sum().pow(0.5)\n",
    "        return(L)\n",
    "    \n",
    "    def constrain_length(self, L=None):\n",
    "        if L is None:\n",
    "            self.target_length = self.length().item()\n",
    "        else:\n",
    "            self.target_length = L\n",
    "        self.linkage.update()\n",
    "        \n",
    "    def is_constrained(self):\n",
    "        return(self.target_length is not None)\n",
    "        \n",
    "    def soft_abs(self, x):\n",
    "        a = 10.0\n",
    "        y = a*(x.abs()).pow(3)\n",
    "        y /= (1.0+a*x.pow(2))\n",
    "        return(y)\n",
    "        \n",
    "    def energy(self):\n",
    "        E = 0.0\n",
    "        if self.target_length is not None:\n",
    "            d = self.length() - self.target_length\n",
    "            E += d.pow(2) + 0.0*torch.abs(d)\n",
    "        return(E)\n",
    "    \n",
    "    def constrain_on(self, parent):\n",
    "        self.parent = parent\n",
    "        if self.parent.__class__.__name__ is 'Point':\n",
    "            self.mode = 'on_point'\n",
    "        elif self.parent.__class__.__name__ is 'Line':\n",
    "            self.mode = 'on_line'\n",
    "        self.linkage.update()"
   ]
  },
  {
   "cell_type": "code",
   "execution_count": null,
   "metadata": {},
   "outputs": [],
   "source": [
    "'''\n",
    "class Angle(torch.nn.Module):\n",
    "    def __init__(self, linkage, line1, line2):\n",
    "        super(Angle, self).__init__()\n",
    "        self.linkage = linkage\n",
    "        self.line1 = line1\n",
    "        self.line2 = line2\n",
    "        self.target_theta = None\n",
    "        self.axis = None\n",
    "        self.ccw = False\n",
    "        \n",
    "    def __repr__(self):\n",
    "        return('Angle({},{})'.format(self.line1.name, self.line2.name))\n",
    "    \n",
    "    def theta(self, ccw=False):\n",
    "        r1 = self.line1.r\n",
    "        r2 = self.line2.r\n",
    "        if self.line1.p1.root() is not self.line2.p1.root():\n",
    "            r2 = -r2\n",
    "        u1 = r1/(r1.pow(2).sum().pow(0.5))\n",
    "        u2 = r2/(r2.pow(2).sum().pow(0.5))\n",
    "        cos_theta = (u1*u2).sum()\n",
    "        theta = torch.arccos(cos_theta)\n",
    "        if ccw is True:\n",
    "            s = torch.sign(torch.cross(u1, u2)[2])\n",
    "            theta = np.pi*(1-s)+s*theta\n",
    "        theta *= 180/np.pi\n",
    "        return(theta)\n",
    "    \n",
    "    def constrain_angle(self, theta=None, axis=None, ccw=False):\n",
    "        self.ccw = ccw\n",
    "        if axis is None:\n",
    "            self.axis = torch.tensor([0,0,1]).to(torch.float)\n",
    "        else:\n",
    "            self.axis = axis/(axis.pow(2).sum().pow(0.5))\n",
    "        if theta is None:\n",
    "            self.target_theta = self.theta()\n",
    "        else:\n",
    "            theta %= 360\n",
    "            self.target_theta = torch.tensor(theta).to(torch.float)\n",
    "        self.linkage.update()\n",
    "        \n",
    "    def is_constrained(self):\n",
    "        return(self.target_theta is not None)\n",
    "        \n",
    "    def soft_abs(self, x):\n",
    "        a = 10.0\n",
    "        y = a*(x.abs()).pow(3)\n",
    "        y /= (1.0+a*x.pow(2))\n",
    "        return(y)\n",
    "        \n",
    "    def energy(self):\n",
    "        E = 0.0\n",
    "        if self.target_theta is not None:\n",
    "            rx = self.line1.r\n",
    "            ux = rx/(rx.pow(2).sum().pow(0.5))\n",
    "            if self.line1.p1.root() is not self.line2.p1.root():\n",
    "                ux = -ux\n",
    "                origin = torch.tensor(self.line1.p2.r.tolist()).to(torch.float)\n",
    "            else:\n",
    "                origin = torch.tensor(self.line1.p1.r.tolist()).to(torch.float)\n",
    "            free_point = self.line2.p2\n",
    "            uz = self.axis\n",
    "            uy = torch.cross(uz, ux)\n",
    "            target_point = 0.0\n",
    "            target_point += origin\n",
    "            target_point += torch.cos(self.target_theta*np.pi/180)*ux\n",
    "            target_point += torch.sin(self.target_theta*np.pi/180)*uy\n",
    "            target_point = torch.tensor(target_point.tolist()).to(torch.float)\n",
    "            E += (target_point-free_point.r).pow(2).sum()\n",
    "            #E += self.soft_abs((self.theta(self.ccw)*np.pi/180-self.target_theta)*np.pi/180)\n",
    "            #E += torch.abs(torch.cos(self.theta(self.ccw)*np.pi/180)-torch.cos(self.target_theta*np.pi/180))\n",
    "            #E += torch.abs(torch.sin(self.theta(self.ccw)*np.pi/180)-torch.sin(self.target_theta*np.pi/180))\n",
    "        return(E)\n",
    "''';"
   ]
  },
  {
   "cell_type": "code",
   "execution_count": null,
   "metadata": {},
   "outputs": [],
   "source": [
    "class Linkage():\n",
    "    def __init__(self):       \n",
    "        self.points = torch.nn.ModuleDict({})\n",
    "        self.anchors = torch.nn.ModuleDict({})\n",
    "        self.lines = torch.nn.ModuleDict({})\n",
    "        self.angles = torch.nn.ModuleDict({})\n",
    "        self.names = {}\n",
    "        for _type in ['point', 'line']:\n",
    "            self.names[_type] = []\n",
    "            letters = string.ascii_letters[-26:]\n",
    "            if _type is 'line':\n",
    "                letters = letters.lower()\n",
    "            for n in range(3):\n",
    "                for t in itertools.product(letters, repeat=n):\n",
    "                    self.names[_type].append(''.join(t))\n",
    "            self.names[_type] = iter(self.names[_type][1:])\n",
    "        self.names['anchor'] = self.names['point']\n",
    "        self.plot = LinkagePlot(self)\n",
    "        self.tolerance = 0.00001\n",
    "    \n",
    "    def add_point_at(self, r):\n",
    "        name = next(self.names['point'])\n",
    "        self.points[name] = Point(self, name, at=r)\n",
    "        self.plot.update()\n",
    "        return(self.points[name])\n",
    "        \n",
    "    def add_point_on(self, p):\n",
    "        name = next(self.names['point'])\n",
    "        self.points[name] = Point(self, name, on=p)\n",
    "        self.plot.update()\n",
    "        return(self.points[name])\n",
    "    \n",
    "    def add_anchor_at(self, r):\n",
    "        name = next(self.names['anchor'])\n",
    "        self.anchors[name] = Point(self, name, anchored_at=r)\n",
    "        self.plot.update()\n",
    "        return(self.anchors[name])\n",
    "    \n",
    "    def add_line(self, r1, r2):\n",
    "        name = next(self.names['line'])\n",
    "        self.lines[name] = Line(self, name, r1, r2)\n",
    "        self.plot.update()\n",
    "        return(self.lines[name])\n",
    "        \n",
    "    def add_angle(self, line1, line2):\n",
    "        name = '{}_{}'.format(line1.name, line2.name)\n",
    "        self.angles[name] = Angle(self, line1, line2)\n",
    "        self.plot.update()\n",
    "        return(self.angles[name])\n",
    "        \n",
    "    @property\n",
    "    def N(self):\n",
    "        N = 0\n",
    "        N += len(self.points)\n",
    "        N += len(self.anchors)\n",
    "        N += 2*len(self.lines)\n",
    "        return(N)\n",
    "    \n",
    "    @property\n",
    "    def M(self):\n",
    "        return(len(self.lines))\n",
    "     \n",
    "    def parameters(self):\n",
    "        parameters = []\n",
    "        for point in self.points.values():\n",
    "            for param in point.parameters():\n",
    "                parameters.append(param)\n",
    "        for anchor in self.anchors.values():\n",
    "            for param in anchor.parameters():\n",
    "                parameters.append(param)\n",
    "        for line in self.lines.values():\n",
    "            for param in line.parameters():\n",
    "                parameters.append(param)\n",
    "        return(parameters)\n",
    "        \n",
    "    def xyz(self):\n",
    "        xyz = torch.zeros((self.N, 3))\n",
    "        n = 0\n",
    "        for point in self.points.values():\n",
    "            xyz[n] += point.r\n",
    "            n += 1\n",
    "        for anchor in self.anchors.values():\n",
    "            xyz[n] += anchor.r\n",
    "            n += 1\n",
    "        for line in self.lines.values():\n",
    "            xyz[n] += line.p1.r\n",
    "            xyz[n+1] += line.p2.r\n",
    "            n += 2\n",
    "        return(xyz)\n",
    "        \n",
    "    def energy(self):\n",
    "        E = 0.0\n",
    "        for line in self.lines.values():\n",
    "            E += line.energy()\n",
    "        for angle in self.angles.values():\n",
    "            E += angle.energy()\n",
    "        return(E)\n",
    "            \n",
    "    def update(self, max_num_epochs=10000):\n",
    "        optimizer = torch.optim.Adam(self.parameters(), lr=0.001) #SGD\n",
    "        for epoch in range(max_num_epochs):\n",
    "            optimizer.zero_grad()\n",
    "            E = self.energy()\n",
    "            E.backward()\n",
    "            optimizer.step()\n",
    "            self.plot.E_list.append(E.item())\n",
    "            if E <= self.tolerance:\n",
    "                break\n",
    "        if (E > self.tolerance or E.isnan()):\n",
    "            raise Exception('Could not solve all constraints.')\n",
    "        self.plot.update()\n",
    "        time.sleep(0.01)"
   ]
  },
  {
   "cell_type": "code",
   "execution_count": null,
   "metadata": {},
   "outputs": [],
   "source": [
    "class LinkagePlot():\n",
    "    def __init__(self, linkage):\n",
    "        self.linkage = linkage\n",
    "        self.origin = torch.tensor([0,0,0])\n",
    "        self.E_list = [10000.0]\n",
    "        \n",
    "        # Set up figure and axis\n",
    "        self.size = 5\n",
    "        self.lim = 5\n",
    "        self.fig = plt.figure(figsize=(2*self.size,self.size))\n",
    "        self.ax1 = self.fig.add_subplot(121, autoscale_on=False,\n",
    "            xlim=(-self.lim,self.lim),\n",
    "            ylim=(-self.lim,self.lim))\n",
    "        self.ax2 = self.fig.add_subplot(122, autoscale_on=False,\n",
    "            xlim=(0,1),\n",
    "            ylim=(0,1))\n",
    "        self.ax1.set_title('Configuration')\n",
    "        self.ax2.set_title('log10(E)')\n",
    "        \n",
    "        self.ax1.scatter(\n",
    "            [self.origin[0]], [self.origin[1]],\n",
    "            marker='o', s=20, c='red', alpha=1, label='origin')\n",
    "        \n",
    "        self.points, self.anchors, self.lines = {}, {}, {}\n",
    "            \n",
    "        self.lnE_line, = self.ax2.plot([], [], 'b-', markersize=3, lw=0.5, label='log10(E)')\n",
    "        time_template = ' t={:.0f}\\n E={:.2f}\\n T={:.5f}\\n theta={:.0f}\\n'\n",
    "        self.time_text = self.ax1.text(0.05, 0.7, '', transform=self.ax1.transAxes)\n",
    "        \n",
    "    def update(self):\n",
    "        \n",
    "        for point_name in self.linkage.points.keys():\n",
    "            if point_name not in self.points.keys():\n",
    "                point = self.ax1.scatter([], [], s=20, c='limegreen',\n",
    "                    zorder=2, label=point_name)\n",
    "                self.points[point_name] = point\n",
    "            point = self.linkage.points[point_name]\n",
    "            self.points[point_name].set_offsets(\n",
    "                [[point.r[0],point.r[1]]])\n",
    "                \n",
    "        for anchor_name in self.linkage.anchors.keys():\n",
    "            if anchor_name not in self.anchors.keys():\n",
    "                anchor = self.ax1.scatter([], [], s=20, c='orange',\n",
    "                    zorder=1, label=anchor_name)\n",
    "                self.anchors[anchor_name] = anchor\n",
    "            anchor = self.linkage.anchors[anchor_name]\n",
    "            self.anchors[anchor_name].set_offsets(\n",
    "                [[anchor.r[0],anchor.r[1]]])\n",
    "                \n",
    "        for line_name in self.linkage.lines.keys():\n",
    "            ls, lw = ':', 1\n",
    "            if self.linkage.lines[line_name].is_constrained():\n",
    "                ls, lw = '-', 1\n",
    "            if line_name not in self.lines.keys():\n",
    "                line, = self.ax1.plot([], [], linestyle=ls, markersize=3, lw=lw, c='black',\n",
    "                    zorder=0, label=line_name)\n",
    "                self.lines[line_name] = line\n",
    "            line = self.linkage.lines[line_name]\n",
    "            self.lines[line_name].set_data(\n",
    "                [line.p1.r[0],line.p2.r[0]],\n",
    "                [line.p1.r[1],line.p2.r[1]])\n",
    "            self.lines[line_name].set_linestyle(ls)\n",
    "            self.lines[line_name].set_linewidth(lw)\n",
    "            \n",
    "        self.lnE_line.set_xdata(torch.arange(0,len(self.E_list)))\n",
    "        self.lnE_line.set_ydata(torch.log10(torch.tensor(self.E_list)))\n",
    "        self.ax2.set_xlabel('Epoch')\n",
    "        self.ax2.set_xlim(0,len(self.E_list))\n",
    "        self.ax2.set_ylim(-10,10)\n",
    "        self.time_text.set_text('')\n",
    "        self.fig.canvas.draw()"
   ]
  },
  {
   "cell_type": "code",
   "execution_count": null,
   "metadata": {},
   "outputs": [],
   "source": [
    "# Turn crank while simultaneously increasing crank length\n",
    "# Implement Newton solver?"
   ]
  },
  {
   "cell_type": "code",
   "execution_count": null,
   "metadata": {},
   "outputs": [],
   "source": [
    "linkage = Linkage()"
   ]
  },
  {
   "cell_type": "code",
   "execution_count": null,
   "metadata": {},
   "outputs": [],
   "source": [
    "A = linkage.add_point_at([0,2,0])"
   ]
  },
  {
   "cell_type": "code",
   "execution_count": null,
   "metadata": {},
   "outputs": [],
   "source": [
    "B = linkage.add_point_at([-2,1,0])"
   ]
  },
  {
   "cell_type": "code",
   "execution_count": null,
   "metadata": {},
   "outputs": [],
   "source": [
    "C = linkage.add_point_at([2,1,0])"
   ]
  },
  {
   "cell_type": "code",
   "execution_count": null,
   "metadata": {},
   "outputs": [],
   "source": [
    "Z = linkage.add_anchor_at([0,-1,0])"
   ]
  },
  {
   "cell_type": "code",
   "execution_count": null,
   "metadata": {},
   "outputs": [],
   "source": [
    "bc = linkage.add_line(B,C)"
   ]
  },
  {
   "cell_type": "code",
   "execution_count": null,
   "metadata": {},
   "outputs": [],
   "source": [
    "az = linkage.add_line(A,Z)"
   ]
  },
  {
   "cell_type": "code",
   "execution_count": null,
   "metadata": {},
   "outputs": [],
   "source": [
    "A.constrain_on(bc) ######### fix update()"
   ]
  },
  {
   "cell_type": "code",
   "execution_count": null,
   "metadata": {},
   "outputs": [],
   "source": [
    "az.constrain_length()"
   ]
  },
  {
   "cell_type": "code",
   "execution_count": null,
   "metadata": {},
   "outputs": [],
   "source": [
    "az.constrain_length(0)"
   ]
  },
  {
   "cell_type": "code",
   "execution_count": null,
   "metadata": {},
   "outputs": [],
   "source": [
    "ab = linkage.add_line(A,B)"
   ]
  },
  {
   "cell_type": "code",
   "execution_count": null,
   "metadata": {},
   "outputs": [],
   "source": [
    "ab.constrain_length(2)"
   ]
  },
  {
   "cell_type": "code",
   "execution_count": null,
   "metadata": {},
   "outputs": [],
   "source": [
    "bc = linkage.add_line(B,C)"
   ]
  },
  {
   "cell_type": "code",
   "execution_count": null,
   "metadata": {},
   "outputs": [],
   "source": [
    "bc.constrain_length(4)"
   ]
  },
  {
   "cell_type": "code",
   "execution_count": null,
   "metadata": {},
   "outputs": [],
   "source": [
    "ab.constrain_length(0.5)"
   ]
  },
  {
   "cell_type": "code",
   "execution_count": null,
   "metadata": {},
   "outputs": [],
   "source": [
    "linkage = Linkage()"
   ]
  },
  {
   "cell_type": "code",
   "execution_count": null,
   "metadata": {},
   "outputs": [],
   "source": [
    "A = linkage.add_point_at([0,0,0])"
   ]
  },
  {
   "cell_type": "code",
   "execution_count": null,
   "metadata": {},
   "outputs": [],
   "source": [
    "B = linkage.add_anchor_at([-2,0,0])"
   ]
  },
  {
   "cell_type": "code",
   "execution_count": null,
   "metadata": {},
   "outputs": [],
   "source": [
    "C = linkage.add_anchor_at([2,0,0])"
   ]
  },
  {
   "cell_type": "code",
   "execution_count": null,
   "metadata": {},
   "outputs": [],
   "source": [
    "D = linkage.add_point_at([0,1,0])"
   ]
  },
  {
   "cell_type": "code",
   "execution_count": null,
   "metadata": {},
   "outputs": [],
   "source": [
    "E = linkage.add_point_at([-0.25,0,0])"
   ]
  },
  {
   "cell_type": "code",
   "execution_count": null,
   "metadata": {},
   "outputs": [],
   "source": [
    "bc = linkage.add_line(B,C) #bc.constrain_length(4)"
   ]
  },
  {
   "cell_type": "code",
   "execution_count": null,
   "metadata": {},
   "outputs": [],
   "source": [
    "ba = linkage.add_line(B,A)"
   ]
  },
  {
   "cell_type": "code",
   "execution_count": null,
   "metadata": {},
   "outputs": [],
   "source": [
    "ba.constrain_length(2)"
   ]
  },
  {
   "cell_type": "code",
   "execution_count": null,
   "metadata": {},
   "outputs": [],
   "source": [
    "A.constrain_on(bc)"
   ]
  },
  {
   "cell_type": "code",
   "execution_count": null,
   "metadata": {},
   "outputs": [],
   "source": [
    "CC = linkage.add_point_at([0,2,0])"
   ]
  },
  {
   "cell_type": "code",
   "execution_count": null,
   "metadata": {},
   "outputs": [],
   "source": [
    "acc = linkage.add_line(A,CC)"
   ]
  },
  {
   "cell_type": "code",
   "execution_count": null,
   "metadata": {},
   "outputs": [],
   "source": [
    "acc.constrain_length(2)"
   ]
  },
  {
   "cell_type": "code",
   "execution_count": null,
   "metadata": {},
   "outputs": [],
   "source": [
    "D.constrain_on(acc)"
   ]
  },
  {
   "cell_type": "code",
   "execution_count": null,
   "metadata": {},
   "outputs": [],
   "source": [
    "ad = linkage.add_line(A,D)"
   ]
  },
  {
   "cell_type": "code",
   "execution_count": null,
   "metadata": {},
   "outputs": [],
   "source": [
    "ad.constrain_length(1)"
   ]
  },
  {
   "cell_type": "code",
   "execution_count": null,
   "metadata": {},
   "outputs": [],
   "source": [
    "ed = linkage.add_line(E,D)"
   ]
  },
  {
   "cell_type": "code",
   "execution_count": null,
   "metadata": {},
   "outputs": [],
   "source": [
    "ed.constrain_length(1)"
   ]
  },
  {
   "cell_type": "code",
   "execution_count": null,
   "metadata": {},
   "outputs": [],
   "source": [
    "E.constrain_on(bc)"
   ]
  },
  {
   "cell_type": "code",
   "execution_count": null,
   "metadata": {},
   "outputs": [],
   "source": [
    "be = linkage.add_line(B,E)"
   ]
  },
  {
   "cell_type": "code",
   "execution_count": null,
   "metadata": {},
   "outputs": [],
   "source": [
    "be.constrain_length(3.999)"
   ]
  },
  {
   "cell_type": "code",
   "execution_count": null,
   "metadata": {},
   "outputs": [],
   "source": [
    "BB = linkage.add_point_at([-2,-1,0])"
   ]
  },
  {
   "cell_type": "code",
   "execution_count": null,
   "metadata": {},
   "outputs": [],
   "source": [
    "DD = linkage.add_point_at([0,1,0])"
   ]
  },
  {
   "cell_type": "code",
   "execution_count": null,
   "metadata": {},
   "outputs": [],
   "source": [
    "EE = linkage.add_point_at([-1,-0.5,0])"
   ]
  },
  {
   "cell_type": "code",
   "execution_count": null,
   "metadata": {},
   "outputs": [],
   "source": [
    "add = linkage.add_line(A,DD)"
   ]
  },
  {
   "cell_type": "code",
   "execution_count": null,
   "metadata": {},
   "outputs": [],
   "source": [
    "add.constrain_length(1)"
   ]
  },
  {
   "cell_type": "code",
   "execution_count": null,
   "metadata": {},
   "outputs": [],
   "source": [
    "bbcc = linkage.add_line(BB,CC)"
   ]
  },
  {
   "cell_type": "code",
   "execution_count": null,
   "metadata": {},
   "outputs": [],
   "source": [
    "EE.constrain_on(bbcc)"
   ]
  },
  {
   "cell_type": "code",
   "execution_count": null,
   "metadata": {},
   "outputs": [],
   "source": [
    "bbee = linkage.add_line(BB,EE)"
   ]
  },
  {
   "cell_type": "code",
   "execution_count": null,
   "metadata": {},
   "outputs": [],
   "source": [
    "bbee.constrain_length(1.25)"
   ]
  },
  {
   "cell_type": "code",
   "execution_count": null,
   "metadata": {},
   "outputs": [],
   "source": [
    "eedd = linkage.add_line(EE,DD)"
   ]
  },
  {
   "cell_type": "code",
   "execution_count": null,
   "metadata": {},
   "outputs": [],
   "source": [
    "eedd.constrain_length(1)"
   ]
  },
  {
   "cell_type": "code",
   "execution_count": null,
   "metadata": {},
   "outputs": [],
   "source": [
    "bbcc.constrain_length(4)"
   ]
  },
  {
   "cell_type": "code",
   "execution_count": null,
   "metadata": {},
   "outputs": [],
   "source": [
    "be.constrain_length(3.2)"
   ]
  },
  {
   "cell_type": "code",
   "execution_count": null,
   "metadata": {},
   "outputs": [],
   "source": [
    "#A.constrain_on(bbcc)"
   ]
  },
  {
   "cell_type": "code",
   "execution_count": null,
   "metadata": {},
   "outputs": [],
   "source": [
    "zz"
   ]
  },
  {
   "cell_type": "code",
   "execution_count": null,
   "metadata": {},
   "outputs": [],
   "source": []
  },
  {
   "cell_type": "code",
   "execution_count": null,
   "metadata": {},
   "outputs": [],
   "source": [
    "AA.constrain_on(acc)"
   ]
  },
  {
   "cell_type": "code",
   "execution_count": null,
   "metadata": {},
   "outputs": [],
   "source": []
  },
  {
   "cell_type": "code",
   "execution_count": null,
   "metadata": {},
   "outputs": [],
   "source": []
  },
  {
   "cell_type": "code",
   "execution_count": null,
   "metadata": {},
   "outputs": [],
   "source": [
    "aadd = linkage.add_line(AA,DD)"
   ]
  },
  {
   "cell_type": "code",
   "execution_count": null,
   "metadata": {},
   "outputs": [],
   "source": [
    "aadd.constrain_length(1)"
   ]
  },
  {
   "cell_type": "code",
   "execution_count": null,
   "metadata": {},
   "outputs": [],
   "source": [
    "EE.constrain_on(acc)"
   ]
  },
  {
   "cell_type": "code",
   "execution_count": null,
   "metadata": {},
   "outputs": [],
   "source": [
    "eedd = linkage.add_line(EE,DD)"
   ]
  },
  {
   "cell_type": "code",
   "execution_count": null,
   "metadata": {},
   "outputs": [],
   "source": [
    "eedd.constrain_length(1)"
   ]
  },
  {
   "cell_type": "code",
   "execution_count": null,
   "metadata": {},
   "outputs": [],
   "source": [
    "dee = linkage.add_line(D,EE)"
   ]
  },
  {
   "cell_type": "code",
   "execution_count": null,
   "metadata": {},
   "outputs": [],
   "source": [
    "dee.constrain_length(0.5)"
   ]
  },
  {
   "cell_type": "code",
   "execution_count": null,
   "metadata": {},
   "outputs": [],
   "source": [
    "be.constrain_length(1)"
   ]
  },
  {
   "cell_type": "code",
   "execution_count": null,
   "metadata": {},
   "outputs": [],
   "source": []
  },
  {
   "cell_type": "code",
   "execution_count": null,
   "metadata": {},
   "outputs": [],
   "source": [
    "be.constrain_length(3.99)"
   ]
  },
  {
   "cell_type": "code",
   "execution_count": null,
   "metadata": {},
   "outputs": [],
   "source": [
    "dee.constrain_length(3.9)"
   ]
  },
  {
   "cell_type": "code",
   "execution_count": null,
   "metadata": {},
   "outputs": [],
   "source": []
  },
  {
   "cell_type": "code",
   "execution_count": null,
   "metadata": {},
   "outputs": [],
   "source": []
  },
  {
   "cell_type": "code",
   "execution_count": null,
   "metadata": {},
   "outputs": [],
   "source": [
    "zz"
   ]
  },
  {
   "cell_type": "code",
   "execution_count": null,
   "metadata": {},
   "outputs": [],
   "source": []
  },
  {
   "cell_type": "code",
   "execution_count": null,
   "metadata": {},
   "outputs": [],
   "source": [
    "G = linkage.add_anchor_at([0,4,0])"
   ]
  },
  {
   "cell_type": "code",
   "execution_count": null,
   "metadata": {},
   "outputs": [],
   "source": [
    "fg = linkage.add_line(F,G)"
   ]
  },
  {
   "cell_type": "code",
   "execution_count": null,
   "metadata": {},
   "outputs": [],
   "source": [
    "fg.constrain_length(8)"
   ]
  },
  {
   "cell_type": "code",
   "execution_count": null,
   "metadata": {},
   "outputs": [],
   "source": [
    "zz"
   ]
  },
  {
   "cell_type": "code",
   "execution_count": null,
   "metadata": {},
   "outputs": [],
   "source": [
    "A.constrain_on(fg)"
   ]
  },
  {
   "cell_type": "code",
   "execution_count": null,
   "metadata": {},
   "outputs": [],
   "source": [
    "ga = linkage.add_line(G,A)"
   ]
  },
  {
   "cell_type": "code",
   "execution_count": null,
   "metadata": {},
   "outputs": [],
   "source": [
    "ga.constrain_length(4)"
   ]
  },
  {
   "cell_type": "code",
   "execution_count": null,
   "metadata": {},
   "outputs": [],
   "source": [
    "H = linkage.add_point_at([-3,-1,0])"
   ]
  },
  {
   "cell_type": "code",
   "execution_count": null,
   "metadata": {},
   "outputs": [],
   "source": [
    "ha = linkage.add_line(H,A)"
   ]
  },
  {
   "cell_type": "code",
   "execution_count": null,
   "metadata": {},
   "outputs": [],
   "source": [
    "gh = linkage.add_line(G,H)"
   ]
  },
  {
   "cell_type": "code",
   "execution_count": null,
   "metadata": {},
   "outputs": [],
   "source": [
    "gh.constrain_length(4.5)"
   ]
  },
  {
   "cell_type": "code",
   "execution_count": null,
   "metadata": {},
   "outputs": [],
   "source": [
    "H.constrain_on(fg)"
   ]
  },
  {
   "cell_type": "code",
   "execution_count": null,
   "metadata": {},
   "outputs": [],
   "source": [
    "zz"
   ]
  },
  {
   "cell_type": "code",
   "execution_count": null,
   "metadata": {},
   "outputs": [],
   "source": [
    "ha.constrain_length(2) ##########"
   ]
  },
  {
   "cell_type": "code",
   "execution_count": null,
   "metadata": {},
   "outputs": [],
   "source": [
    "gh.constrain_length(5.5)"
   ]
  },
  {
   "cell_type": "code",
   "execution_count": null,
   "metadata": {},
   "outputs": [],
   "source": [
    "be.constrain_length(0.5)"
   ]
  },
  {
   "cell_type": "code",
   "execution_count": null,
   "metadata": {},
   "outputs": [],
   "source": [
    "gh.constrain_length(7)"
   ]
  },
  {
   "cell_type": "code",
   "execution_count": null,
   "metadata": {},
   "outputs": [],
   "source": []
  },
  {
   "cell_type": "code",
   "execution_count": null,
   "metadata": {},
   "outputs": [],
   "source": [
    "be.constrain_length(3)"
   ]
  },
  {
   "cell_type": "code",
   "execution_count": null,
   "metadata": {},
   "outputs": [],
   "source": [
    "gh.constrain_length(3)"
   ]
  },
  {
   "cell_type": "code",
   "execution_count": null,
   "metadata": {},
   "outputs": [],
   "source": []
  },
  {
   "cell_type": "code",
   "execution_count": null,
   "metadata": {},
   "outputs": [],
   "source": [
    "zz"
   ]
  },
  {
   "cell_type": "code",
   "execution_count": null,
   "metadata": {},
   "outputs": [],
   "source": [
    "Z = linkage.add_anchor_at([0,0,0])"
   ]
  },
  {
   "cell_type": "code",
   "execution_count": null,
   "metadata": {},
   "outputs": [],
   "source": [
    "az = linkage.add_line(A,Z)"
   ]
  },
  {
   "cell_type": "code",
   "execution_count": null,
   "metadata": {},
   "outputs": [],
   "source": [
    "az.constrain_length(0)"
   ]
  },
  {
   "cell_type": "code",
   "execution_count": null,
   "metadata": {},
   "outputs": [],
   "source": []
  },
  {
   "cell_type": "code",
   "execution_count": null,
   "metadata": {},
   "outputs": [],
   "source": [
    "az.constrain_length(0)"
   ]
  },
  {
   "cell_type": "code",
   "execution_count": null,
   "metadata": {},
   "outputs": [],
   "source": []
  },
  {
   "cell_type": "code",
   "execution_count": null,
   "metadata": {},
   "outputs": [],
   "source": []
  },
  {
   "cell_type": "code",
   "execution_count": null,
   "metadata": {},
   "outputs": [],
   "source": []
  },
  {
   "cell_type": "code",
   "execution_count": null,
   "metadata": {},
   "outputs": [],
   "source": []
  },
  {
   "cell_type": "code",
   "execution_count": null,
   "metadata": {},
   "outputs": [],
   "source": []
  },
  {
   "cell_type": "code",
   "execution_count": null,
   "metadata": {},
   "outputs": [],
   "source": []
  },
  {
   "cell_type": "code",
   "execution_count": null,
   "metadata": {},
   "outputs": [],
   "source": [
    "#"
   ]
  },
  {
   "cell_type": "code",
   "execution_count": null,
   "metadata": {},
   "outputs": [],
   "source": []
  },
  {
   "cell_type": "code",
   "execution_count": null,
   "metadata": {},
   "outputs": [],
   "source": [
    "zz"
   ]
  },
  {
   "cell_type": "code",
   "execution_count": null,
   "metadata": {},
   "outputs": [],
   "source": []
  },
  {
   "cell_type": "code",
   "execution_count": null,
   "metadata": {},
   "outputs": [],
   "source": []
  },
  {
   "cell_type": "code",
   "execution_count": null,
   "metadata": {},
   "outputs": [],
   "source": []
  },
  {
   "cell_type": "code",
   "execution_count": null,
   "metadata": {},
   "outputs": [],
   "source": [
    "H = linkage.add_point_at([2,-0.5,0])"
   ]
  },
  {
   "cell_type": "code",
   "execution_count": null,
   "metadata": {},
   "outputs": [],
   "source": [
    "ch = linkage.add_line(C,H)"
   ]
  },
  {
   "cell_type": "code",
   "execution_count": null,
   "metadata": {},
   "outputs": [],
   "source": [
    "H.constrain_on(gf)"
   ]
  },
  {
   "cell_type": "code",
   "execution_count": null,
   "metadata": {},
   "outputs": [],
   "source": [
    "gf.constrain_length()"
   ]
  },
  {
   "cell_type": "code",
   "execution_count": null,
   "metadata": {},
   "outputs": [],
   "source": [
    "#ch.constrain_length(2)"
   ]
  },
  {
   "cell_type": "code",
   "execution_count": null,
   "metadata": {},
   "outputs": [],
   "source": [
    "zz"
   ]
  },
  {
   "cell_type": "code",
   "execution_count": null,
   "metadata": {},
   "outputs": [],
   "source": [
    "linkage = Linkage()"
   ]
  },
  {
   "cell_type": "code",
   "execution_count": null,
   "metadata": {},
   "outputs": [],
   "source": [
    "A = linkage.add_anchor_at([0,0,0])"
   ]
  },
  {
   "cell_type": "code",
   "execution_count": null,
   "metadata": {},
   "outputs": [],
   "source": [
    "B = linkage.add_anchor_at([0,1,0])"
   ]
  },
  {
   "cell_type": "code",
   "execution_count": null,
   "metadata": {},
   "outputs": [],
   "source": [
    "ux = linkage.add_line(linkage.anchors['A'],linkage.anchors['B']).r"
   ]
  },
  {
   "cell_type": "code",
   "execution_count": null,
   "metadata": {},
   "outputs": [],
   "source": [
    "uz = torch.tensor([0,0,1]).to(torch.float)"
   ]
  },
  {
   "cell_type": "code",
   "execution_count": null,
   "metadata": {},
   "outputs": [],
   "source": [
    "theta = 135"
   ]
  },
  {
   "cell_type": "code",
   "execution_count": null,
   "metadata": {},
   "outputs": [],
   "source": [
    "uy = torch.cross(uz, ux)"
   ]
  },
  {
   "cell_type": "code",
   "execution_count": null,
   "metadata": {},
   "outputs": [],
   "source": [
    "r = np.cos(theta*np.pi/180)*ux + np.sin(theta*np.pi/180)*uy"
   ]
  },
  {
   "cell_type": "code",
   "execution_count": null,
   "metadata": {},
   "outputs": [],
   "source": [
    "C = linkage.add_point_at(r.tolist())"
   ]
  },
  {
   "cell_type": "code",
   "execution_count": null,
   "metadata": {},
   "outputs": [],
   "source": [
    "linkage.add_line(linkage.anchors['A'],C)"
   ]
  },
  {
   "cell_type": "code",
   "execution_count": null,
   "metadata": {},
   "outputs": [],
   "source": [
    "zz"
   ]
  },
  {
   "cell_type": "code",
   "execution_count": null,
   "metadata": {},
   "outputs": [],
   "source": [
    "linkage = Linkage()"
   ]
  },
  {
   "cell_type": "code",
   "execution_count": null,
   "metadata": {},
   "outputs": [],
   "source": [
    "A = linkage.add_anchor_at([0,0,0])"
   ]
  },
  {
   "cell_type": "code",
   "execution_count": null,
   "metadata": {},
   "outputs": [],
   "source": [
    "B = linkage.add_anchor_at([1,0,0])"
   ]
  },
  {
   "cell_type": "code",
   "execution_count": null,
   "metadata": {},
   "outputs": [],
   "source": [
    "a = linkage.add_line(linkage.anchors['A'],linkage.anchors['B'])"
   ]
  },
  {
   "cell_type": "code",
   "execution_count": null,
   "metadata": {},
   "outputs": [],
   "source": [
    "num_segments = 5"
   ]
  },
  {
   "cell_type": "code",
   "execution_count": null,
   "metadata": {},
   "outputs": [],
   "source": [
    "arc_points = []\n",
    "arc_points.append(B)"
   ]
  },
  {
   "cell_type": "code",
   "execution_count": null,
   "metadata": {},
   "outputs": [],
   "source": [
    "for i in range(num_segments):\n",
    "    #r = arc_points[-1].r + torch.tensor([-0.2,0.2,0.0])\n",
    "    C = linkage.add_point_at([0,1,0]) #r.tolist())\n",
    "    arc_points.append(C)\n",
    "    b = linkage.add_line(A,C)\n",
    "    b.constrain_length(1)\n",
    "    c = linkage.add_line(C,arc_points[-2])\n",
    "    L = 2*np.sin(0.5*(np.pi/2)/num_segments)\n",
    "    c.constrain_length(L)"
   ]
  },
  {
   "cell_type": "code",
   "execution_count": null,
   "metadata": {},
   "outputs": [],
   "source": [
    "c.constrain_length(1)"
   ]
  },
  {
   "cell_type": "code",
   "execution_count": null,
   "metadata": {},
   "outputs": [],
   "source": [
    "zz"
   ]
  },
  {
   "cell_type": "code",
   "execution_count": null,
   "metadata": {},
   "outputs": [],
   "source": [
    "linkage = Linkage()"
   ]
  },
  {
   "cell_type": "code",
   "execution_count": null,
   "metadata": {},
   "outputs": [],
   "source": [
    "linkage.add_anchor_at([-1,1,0])"
   ]
  },
  {
   "cell_type": "code",
   "execution_count": null,
   "metadata": {},
   "outputs": [],
   "source": [
    "linkage.add_point_at([0,1.25,0])"
   ]
  },
  {
   "cell_type": "code",
   "execution_count": null,
   "metadata": {},
   "outputs": [],
   "source": [
    "linkage.add_anchor_at([3,1,0])"
   ]
  },
  {
   "cell_type": "code",
   "execution_count": null,
   "metadata": {},
   "outputs": [],
   "source": [
    "linkage.add_line(linkage.anchors['A'],linkage.points['B'])"
   ]
  },
  {
   "cell_type": "code",
   "execution_count": null,
   "metadata": {},
   "outputs": [],
   "source": [
    "linkage.add_line(linkage.anchors['C'],linkage.anchors['A']) ############"
   ]
  },
  {
   "cell_type": "code",
   "execution_count": null,
   "metadata": {},
   "outputs": [],
   "source": [
    "linkage.lines['a'].constrain_length(1)"
   ]
  },
  {
   "cell_type": "code",
   "execution_count": null,
   "metadata": {},
   "outputs": [],
   "source": [
    "linkage.add_angle(linkage.lines['b'], linkage.lines['a'])"
   ]
  },
  {
   "cell_type": "code",
   "execution_count": null,
   "metadata": {},
   "outputs": [],
   "source": [
    "linkage.angles['b_a'].constrain_angle(45, ccw=True)"
   ]
  },
  {
   "cell_type": "code",
   "execution_count": null,
   "metadata": {},
   "outputs": [],
   "source": [
    "linkage.add_point_at([3,4,0])"
   ]
  },
  {
   "cell_type": "code",
   "execution_count": null,
   "metadata": {},
   "outputs": [],
   "source": [
    "linkage.add_line(linkage.points['B'],linkage.points['D'])"
   ]
  },
  {
   "cell_type": "code",
   "execution_count": null,
   "metadata": {},
   "outputs": [],
   "source": [
    "linkage.add_line(linkage.points['D'],linkage.anchors['C'])"
   ]
  },
  {
   "cell_type": "code",
   "execution_count": null,
   "metadata": {},
   "outputs": [],
   "source": [
    "linkage.lines['c'].constrain_length(5)"
   ]
  },
  {
   "cell_type": "code",
   "execution_count": null,
   "metadata": {},
   "outputs": [],
   "source": [
    "linkage.lines['d'].constrain_length(4)"
   ]
  },
  {
   "cell_type": "code",
   "execution_count": null,
   "metadata": {},
   "outputs": [],
   "source": [
    "for theta in np.linspace(0,720,50):\n",
    "    linkage.angles['b_a'].constrain_angle(theta, ccw=True) # 'd_a'"
   ]
  },
  {
   "cell_type": "code",
   "execution_count": null,
   "metadata": {},
   "outputs": [],
   "source": []
  }
 ],
 "metadata": {
  "kernelspec": {
   "display_name": "Python 3",
   "language": "python",
   "name": "python3"
  },
  "language_info": {
   "codemirror_mode": {
    "name": "ipython",
    "version": 3
   },
   "file_extension": ".py",
   "mimetype": "text/x-python",
   "name": "python",
   "nbconvert_exporter": "python",
   "pygments_lexer": "ipython3",
   "version": "3.7.8"
  }
 },
 "nbformat": 4,
 "nbformat_minor": 4
}
