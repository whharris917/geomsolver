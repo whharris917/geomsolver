{
 "cells": [
  {
   "cell_type": "code",
   "execution_count": 6,
   "id": "65804107",
   "metadata": {},
   "outputs": [],
   "source": [
    "from ipywidgets import interact, interactive, fixed, interact_manual, widgets\n",
    "from ipywidgets import Button, Layout, jslink, IntText, IntSlider, GridspecLayout\n",
    "import IPython\n",
    "from IPython.display import display\n",
    "import pandas as pd"
   ]
  },
  {
   "cell_type": "code",
   "execution_count": 7,
   "id": "01d73491",
   "metadata": {},
   "outputs": [],
   "source": [
    "df = pd.DataFrame(columns=['Type', 'Geometry', 'Parameter Name', 'Parameter Value', 'Locked?', 'Constrained?'])"
   ]
  },
  {
   "cell_type": "code",
   "execution_count": 8,
   "id": "c5080120",
   "metadata": {},
   "outputs": [],
   "source": [
    "param_dict = {\n",
    "    'Type': ['a'],\n",
    "    'Geometry': ['b'],\n",
    "    'Parameter Name': ['c'],\n",
    "    'Parameter Value': ['d'],\n",
    "    'Locked?': ['e'],\n",
    "    'Constrained?': ['f']\n",
    "}"
   ]
  },
  {
   "cell_type": "code",
   "execution_count": 10,
   "id": "4f0a5108",
   "metadata": {},
   "outputs": [],
   "source": [
    "df = pd.concat([df, pd.DataFrame(param_dict)])"
   ]
  },
  {
   "cell_type": "code",
   "execution_count": 11,
   "id": "c4c9aa56",
   "metadata": {},
   "outputs": [
    {
     "data": {
      "text/html": [
       "<div>\n",
       "<style scoped>\n",
       "    .dataframe tbody tr th:only-of-type {\n",
       "        vertical-align: middle;\n",
       "    }\n",
       "\n",
       "    .dataframe tbody tr th {\n",
       "        vertical-align: top;\n",
       "    }\n",
       "\n",
       "    .dataframe thead th {\n",
       "        text-align: right;\n",
       "    }\n",
       "</style>\n",
       "<table border=\"1\" class=\"dataframe\">\n",
       "  <thead>\n",
       "    <tr style=\"text-align: right;\">\n",
       "      <th></th>\n",
       "      <th>Type</th>\n",
       "      <th>Geometry</th>\n",
       "      <th>Parameter Name</th>\n",
       "      <th>Parameter Value</th>\n",
       "      <th>Locked?</th>\n",
       "      <th>Constrained?</th>\n",
       "    </tr>\n",
       "  </thead>\n",
       "  <tbody>\n",
       "    <tr>\n",
       "      <th>0</th>\n",
       "      <td>a</td>\n",
       "      <td>b</td>\n",
       "      <td>c</td>\n",
       "      <td>d</td>\n",
       "      <td>e</td>\n",
       "      <td>f</td>\n",
       "    </tr>\n",
       "  </tbody>\n",
       "</table>\n",
       "</div>"
      ],
      "text/plain": [
       "  Type Geometry Parameter Name Parameter Value Locked? Constrained?\n",
       "0    a        b              c               d       e            f"
      ]
     },
     "execution_count": 11,
     "metadata": {},
     "output_type": "execute_result"
    }
   ],
   "source": [
    "df"
   ]
  },
  {
   "cell_type": "code",
   "execution_count": 12,
   "id": "275ab3a4",
   "metadata": {},
   "outputs": [],
   "source": [
    "def create_table():\n",
    "    grid = GridspecLayout(10, 10, height='500px', width='500px')\n",
    "    for i in range(10):\n",
    "        for j in range(10):\n",
    "            grid[i,j] = widgets.Output(layout={'border': '1px solid black'})\n",
    "    display(grid)\n",
    "    return(grid)"
   ]
  },
  {
   "cell_type": "code",
   "execution_count": 13,
   "id": "4a62f48b",
   "metadata": {},
   "outputs": [
    {
     "data": {
      "application/vnd.jupyter.widget-view+json": {
       "model_id": "12c64bbbe8af490eafe94824fc4c2815",
       "version_major": 2,
       "version_minor": 0
      },
      "text/plain": [
       "GridspecLayout(children=(Output(layout=Layout(border_bottom='1px solid black', border_left='1px solid black', …"
      ]
     },
     "metadata": {},
     "output_type": "display_data"
    }
   ],
   "source": [
    "table = create_table()"
   ]
  },
  {
   "cell_type": "code",
   "execution_count": 14,
   "id": "9a530a10",
   "metadata": {},
   "outputs": [],
   "source": [
    "with table[0,1]:\n",
    "    print('hi')"
   ]
  },
  {
   "cell_type": "code",
   "execution_count": null,
   "id": "fd46a2d7",
   "metadata": {},
   "outputs": [],
   "source": []
  },
  {
   "cell_type": "code",
   "execution_count": null,
   "id": "b896725e",
   "metadata": {},
   "outputs": [],
   "source": []
  }
 ],
 "metadata": {
  "kernelspec": {
   "display_name": "geomsolver",
   "language": "python",
   "name": "geomsolver"
  },
  "language_info": {
   "codemirror_mode": {
    "name": "ipython",
    "version": 3
   },
   "file_extension": ".py",
   "mimetype": "text/x-python",
   "name": "python",
   "nbconvert_exporter": "python",
   "pygments_lexer": "ipython3",
   "version": "3.11.4"
  }
 },
 "nbformat": 4,
 "nbformat_minor": 5
}
