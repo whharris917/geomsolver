{
 "cells": [
  {
   "cell_type": "code",
   "execution_count": 1,
   "metadata": {},
   "outputs": [],
   "source": [
    "import torch, itertools\n",
    "import numpy as np\n",
    "import matplotlib.pyplot as plt"
   ]
  },
  {
   "cell_type": "code",
   "execution_count": 2,
   "metadata": {},
   "outputs": [],
   "source": [
    "N = 100\n",
    "M = 2"
   ]
  },
  {
   "cell_type": "code",
   "execution_count": 3,
   "metadata": {},
   "outputs": [],
   "source": [
    "x = torch.linspace(0,N,N+1)"
   ]
  },
  {
   "cell_type": "code",
   "execution_count": 4,
   "metadata": {},
   "outputs": [],
   "source": [
    "def adapt(x, M, idx):\n",
    "    if type(x) is not list:\n",
    "        x = x.tolist()\n",
    "    level = 0\n",
    "    if type(idx[0]) is not int:\n",
    "        level = len(idx[0])-1\n",
    "    idx.sort()\n",
    "    #if max(idx) > len(x)-1:\n",
    "    #    raise Exception('Cannot refine the last index along any dimension.')\n",
    "    if level == 0:\n",
    "        chunks = []\n",
    "        for counter, i in enumerate(idx):\n",
    "            if counter == 0:\n",
    "                chunks.append(x[:i])\n",
    "                chunks.append([[x[i],x[i]+1.0/M]])\n",
    "            elif counter == len(idx)-1:\n",
    "                j = idx[counter-1]\n",
    "                chunks.append(x[j+1:i])\n",
    "                chunks.append([[x[i],x[i]+1.0/M]])\n",
    "                chunks.append(x[i+1:])\n",
    "            else:\n",
    "                j = idx[counter-1]\n",
    "                chunks.append(x[j+1:i])\n",
    "                chunks.append([[x[i],x[i]+1.0/M]])\n",
    "        x = chunks\n",
    "        x = list(itertools.chain(*chunks))\n",
    "    elif level == 1:\n",
    "        for coords in idx:\n",
    "            x[coords[0]] = adapt(x[coords[0]], M**(level+1), coords[1])\n",
    "    else:\n",
    "        for coords in idx:\n",
    "            x[coords[0]][coords[1]] = adapt(x[coords[0]][coords[1]], M**(level+1), coords[2])\n",
    "    return(x)"
   ]
  },
  {
   "cell_type": "code",
   "execution_count": 5,
   "metadata": {},
   "outputs": [],
   "source": [
    "x = adapt(x, M, [0, 5, 4, 54, 96, 100])"
   ]
  },
  {
   "cell_type": "code",
   "execution_count": 6,
   "metadata": {},
   "outputs": [],
   "source": [
    "x = adapt(x, M, [[0,[1]],[54,[0,1]]])"
   ]
  },
  {
   "cell_type": "code",
   "execution_count": 7,
   "metadata": {},
   "outputs": [],
   "source": [
    "x = adapt(x, M, [[0,1,[0,1]]])"
   ]
  },
  {
   "cell_type": "code",
   "execution_count": 8,
   "metadata": {},
   "outputs": [
    {
     "data": {
      "text/plain": [
       "[[0.0, [[0.5, 0.625], [0.75, 0.875]]],\n",
       " 1.0,\n",
       " 2.0,\n",
       " 3.0,\n",
       " [4.0, 4.5],\n",
       " [5.0, 5.5],\n",
       " 6.0,\n",
       " 7.0,\n",
       " 8.0,\n",
       " 9.0,\n",
       " 10.0,\n",
       " 11.0,\n",
       " 12.0,\n",
       " 13.0,\n",
       " 14.0,\n",
       " 15.0,\n",
       " 16.0,\n",
       " 17.0,\n",
       " 18.0,\n",
       " 19.0,\n",
       " 20.0,\n",
       " 21.0,\n",
       " 22.0,\n",
       " 23.0,\n",
       " 24.0,\n",
       " 25.0,\n",
       " 26.0,\n",
       " 27.0,\n",
       " 28.0,\n",
       " 29.0,\n",
       " 30.0,\n",
       " 31.0,\n",
       " 32.0,\n",
       " 33.0,\n",
       " 34.0,\n",
       " 35.0,\n",
       " 36.0,\n",
       " 37.0,\n",
       " 38.0,\n",
       " 39.0,\n",
       " 40.0,\n",
       " 41.0,\n",
       " 42.0,\n",
       " 43.0,\n",
       " 44.0,\n",
       " 45.0,\n",
       " 46.0,\n",
       " 47.0,\n",
       " 48.0,\n",
       " 49.0,\n",
       " 50.0,\n",
       " 51.0,\n",
       " 52.0,\n",
       " 53.0,\n",
       " [[54.0, 54.25], [54.5, 54.75]],\n",
       " 55.0,\n",
       " 56.0,\n",
       " 57.0,\n",
       " 58.0,\n",
       " 59.0,\n",
       " 60.0,\n",
       " 61.0,\n",
       " 62.0,\n",
       " 63.0,\n",
       " 64.0,\n",
       " 65.0,\n",
       " 66.0,\n",
       " 67.0,\n",
       " 68.0,\n",
       " 69.0,\n",
       " 70.0,\n",
       " 71.0,\n",
       " 72.0,\n",
       " 73.0,\n",
       " 74.0,\n",
       " 75.0,\n",
       " 76.0,\n",
       " 77.0,\n",
       " 78.0,\n",
       " 79.0,\n",
       " 80.0,\n",
       " 81.0,\n",
       " 82.0,\n",
       " 83.0,\n",
       " 84.0,\n",
       " 85.0,\n",
       " 86.0,\n",
       " 87.0,\n",
       " 88.0,\n",
       " 89.0,\n",
       " 90.0,\n",
       " 91.0,\n",
       " 92.0,\n",
       " 93.0,\n",
       " 94.0,\n",
       " 95.0,\n",
       " [96.0, 96.5],\n",
       " 97.0,\n",
       " 98.0,\n",
       " 99.0,\n",
       " [100.0, 100.5]]"
      ]
     },
     "execution_count": 8,
     "metadata": {},
     "output_type": "execute_result"
    }
   ],
   "source": [
    "x"
   ]
  },
  {
   "cell_type": "code",
   "execution_count": null,
   "metadata": {},
   "outputs": [],
   "source": []
  }
 ],
 "metadata": {
  "kernelspec": {
   "display_name": "Python 3 (ipykernel)",
   "language": "python",
   "name": "python3"
  },
  "language_info": {
   "codemirror_mode": {
    "name": "ipython",
    "version": 3
   },
   "file_extension": ".py",
   "mimetype": "text/x-python",
   "name": "python",
   "nbconvert_exporter": "python",
   "pygments_lexer": "ipython3",
   "version": "3.11.4"
  }
 },
 "nbformat": 4,
 "nbformat_minor": 4
}
